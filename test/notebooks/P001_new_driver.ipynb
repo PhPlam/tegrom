{
 "cells": [
  {
   "cell_type": "code",
   "execution_count": 113,
   "id": "2d76468c",
   "metadata": {},
   "outputs": [],
   "source": [
    "from neo4j import GraphDatabase"
   ]
  },
  {
   "cell_type": "code",
   "execution_count": 114,
   "id": "2658d5b9",
   "metadata": {},
   "outputs": [],
   "source": [
    "URI = \"neo4j://localhost:7687\"\n",
    "AUTH = (\"neo4j\",\"test1234\")\n",
    "DB = 'modeltemporaltest'\n",
    "driver = GraphDatabase.driver(URI, auth=AUTH, database=DB)"
   ]
  },
  {
   "cell_type": "code",
   "execution_count": 115,
   "id": "d451ebaf",
   "metadata": {
    "scrolled": true
   },
   "outputs": [],
   "source": [
    "#with GraphDatabase.driver(URI, auth=AUTH) as driver: \n",
    "#    driver.verify_connectivity()"
   ]
  },
  {
   "cell_type": "code",
   "execution_count": 116,
   "id": "52d2c8e0",
   "metadata": {},
   "outputs": [
    {
     "name": "stdout",
     "output_type": "stream",
     "text": [
      "<neo4j._sync.work.session.Session object at 0x7f0bb7d0a4a0>\n"
     ]
    },
    {
     "data": {
      "text/html": [
       "<div>\n",
       "<style scoped>\n",
       "    .dataframe tbody tr th:only-of-type {\n",
       "        vertical-align: middle;\n",
       "    }\n",
       "\n",
       "    .dataframe tbody tr th {\n",
       "        vertical-align: top;\n",
       "    }\n",
       "\n",
       "    .dataframe thead th {\n",
       "        text-align: right;\n",
       "    }\n",
       "</style>\n",
       "<table border=\"1\" class=\"dataframe\">\n",
       "  <thead>\n",
       "    <tr style=\"text-align: right;\">\n",
       "      <th></th>\n",
       "      <th>snap</th>\n",
       "      <th>cnt_m</th>\n",
       "    </tr>\n",
       "  </thead>\n",
       "  <tbody>\n",
       "    <tr>\n",
       "      <th>0</th>\n",
       "      <td>9</td>\n",
       "      <td>3673</td>\n",
       "    </tr>\n",
       "    <tr>\n",
       "      <th>1</th>\n",
       "      <td>10</td>\n",
       "      <td>4213</td>\n",
       "    </tr>\n",
       "    <tr>\n",
       "      <th>2</th>\n",
       "      <td>2</td>\n",
       "      <td>3097</td>\n",
       "    </tr>\n",
       "    <tr>\n",
       "      <th>3</th>\n",
       "      <td>11</td>\n",
       "      <td>4574</td>\n",
       "    </tr>\n",
       "    <tr>\n",
       "      <th>4</th>\n",
       "      <td>0</td>\n",
       "      <td>2988</td>\n",
       "    </tr>\n",
       "    <tr>\n",
       "      <th>5</th>\n",
       "      <td>1</td>\n",
       "      <td>2973</td>\n",
       "    </tr>\n",
       "    <tr>\n",
       "      <th>6</th>\n",
       "      <td>3</td>\n",
       "      <td>3335</td>\n",
       "    </tr>\n",
       "    <tr>\n",
       "      <th>7</th>\n",
       "      <td>4</td>\n",
       "      <td>3364</td>\n",
       "    </tr>\n",
       "    <tr>\n",
       "      <th>8</th>\n",
       "      <td>5</td>\n",
       "      <td>3228</td>\n",
       "    </tr>\n",
       "    <tr>\n",
       "      <th>9</th>\n",
       "      <td>7</td>\n",
       "      <td>3479</td>\n",
       "    </tr>\n",
       "    <tr>\n",
       "      <th>10</th>\n",
       "      <td>8</td>\n",
       "      <td>3558</td>\n",
       "    </tr>\n",
       "    <tr>\n",
       "      <th>11</th>\n",
       "      <td>12</td>\n",
       "      <td>4671</td>\n",
       "    </tr>\n",
       "    <tr>\n",
       "      <th>12</th>\n",
       "      <td>6</td>\n",
       "      <td>3367</td>\n",
       "    </tr>\n",
       "  </tbody>\n",
       "</table>\n",
       "</div>"
      ],
      "text/plain": [
       "    snap  cnt_m\n",
       "0      9   3673\n",
       "1     10   4213\n",
       "2      2   3097\n",
       "3     11   4574\n",
       "4      0   2988\n",
       "5      1   2973\n",
       "6      3   3335\n",
       "7      4   3364\n",
       "8      5   3228\n",
       "9      7   3479\n",
       "10     8   3558\n",
       "11    12   4671\n",
       "12     6   3367"
      ]
     },
     "execution_count": 116,
     "metadata": {},
     "output_type": "execute_result"
    }
   ],
   "source": [
    "call_graph = driver.session()\n",
    "print(call_graph)\n",
    "\n",
    "df = call_graph.run(\"\"\"\n",
    "    MATCH (m:Molecule)\n",
    "    RETURN m.snapshot as snap, count(m) as cnt_m\n",
    "\"\"\").to_df()\n",
    "\n",
    "df"
   ]
  },
  {
   "cell_type": "code",
   "execution_count": 108,
   "id": "67e978a3",
   "metadata": {},
   "outputs": [],
   "source": [
    "call_graph.close()"
   ]
  },
  {
   "cell_type": "code",
   "execution_count": 91,
   "id": "9774c93d",
   "metadata": {},
   "outputs": [
    {
     "name": "stdout",
     "output_type": "stream",
     "text": [
      "<neo4j._sync.work.session.Session object at 0x7f0bb7ceec80>\n"
     ]
    },
    {
     "data": {
      "text/html": [
       "<div>\n",
       "<style scoped>\n",
       "    .dataframe tbody tr th:only-of-type {\n",
       "        vertical-align: middle;\n",
       "    }\n",
       "\n",
       "    .dataframe tbody tr th {\n",
       "        vertical-align: top;\n",
       "    }\n",
       "\n",
       "    .dataframe thead th {\n",
       "        text-align: right;\n",
       "    }\n",
       "</style>\n",
       "<table border=\"1\" class=\"dataframe\">\n",
       "  <thead>\n",
       "    <tr style=\"text-align: right;\">\n",
       "      <th></th>\n",
       "      <th>cnt_m</th>\n",
       "    </tr>\n",
       "  </thead>\n",
       "  <tbody>\n",
       "    <tr>\n",
       "      <th>0</th>\n",
       "      <td>4213</td>\n",
       "    </tr>\n",
       "  </tbody>\n",
       "</table>\n",
       "</div>"
      ],
      "text/plain": [
       "   cnt_m\n",
       "0   4213"
      ]
     },
     "execution_count": 91,
     "metadata": {},
     "output_type": "execute_result"
    }
   ],
   "source": [
    "with GraphDatabase.driver(URI, auth=AUTH, database=DB) as driver:\n",
    "    driver.verify_connectivity()\n",
    "    with driver.session() as call_graph:\n",
    "        print(call_graph)\n",
    "        result = call_graph.run(\n",
    "            \"MATCH (m) \"\n",
    "            \"WHERE m.snapshot = 10 \"\n",
    "            \"RETURN count(m) as cnt_m\"\n",
    "        ).to_df()\n",
    "        #df = result.to_df()\n",
    "\n",
    "result"
   ]
  },
  {
   "cell_type": "code",
   "execution_count": null,
   "id": "c8653b44",
   "metadata": {},
   "outputs": [],
   "source": []
  }
 ],
 "metadata": {
  "kernelspec": {
   "display_name": "Python 3 (ipykernel)",
   "language": "python",
   "name": "python3"
  },
  "language_info": {
   "codemirror_mode": {
    "name": "ipython",
    "version": 3
   },
   "file_extension": ".py",
   "mimetype": "text/x-python",
   "name": "python",
   "nbconvert_exporter": "python",
   "pygments_lexer": "ipython3",
   "version": "3.10.8"
  }
 },
 "nbformat": 4,
 "nbformat_minor": 5
}
