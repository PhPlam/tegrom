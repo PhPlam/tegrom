{
 "cells": [
  {
   "cell_type": "code",
   "execution_count": 7,
   "metadata": {},
   "outputs": [],
   "source": [
    "import matplotlib.pyplot as plt\n",
    "import random"
   ]
  },
  {
   "cell_type": "code",
   "execution_count": 5,
   "metadata": {},
   "outputs": [],
   "source": [
    "mz = [0, 15, 43, 44, 58, 59]\n",
    "rel_int = [0, 20, 100, 17, 30, 10]"
   ]
  },
  {
   "cell_type": "code",
   "execution_count": 52,
   "metadata": {},
   "outputs": [],
   "source": [
    "mz_rand = random.sample(range(150, 375), 150)\n",
    "rel_int_rand_1 = [random.randint(0,25) for x in range(50)]\n",
    "rel_int_rand_2 = [random.randint(20,55) for x in range(50)]\n",
    "rel_int_rand_3 = [random.randint(45,75) for x in range(50)]\n",
    "rel_int_rand_4 = [random.randint(60,85) for x in range(49)]\n",
    "rel_int_rand_5 = [100]\n",
    "rel_int_rand = rel_int_rand_1 + rel_int_rand_2 + rel_int_rand_3 + rel_int_rand_4 + rel_int_rand_5\n",
    "rel_int_rand = random.sample(rel_int_rand, len(rel_int_rand)-50)\n",
    "#print(rel_int_rand)"
   ]
  },
  {
   "cell_type": "code",
   "execution_count": 71,
   "metadata": {
    "scrolled": true
   },
   "outputs": [
    {
     "data": {
      "image/png": "[encoded data removed]",
      "text/plain": [
       "<Figure size 432x288 with 1 Axes>"
      ]
     },
     "metadata": {
      "needs_background": "light"
     },
     "output_type": "display_data"
    }
   ],
   "source": [
    "mz_rand = random.sample(range(150, 375), 150)\n",
    "rel_int_rand_1 = [random.randint(0,25) for x in range(50)]\n",
    "rel_int_rand_2 = [random.randint(20,55) for x in range(50)]\n",
    "rel_int_rand_3 = [random.randint(45,75) for x in range(50)]\n",
    "rel_int_rand_4 = [random.randint(65,90) for x in range(49)]\n",
    "rel_int_rand_5 = [100]\n",
    "rel_int_rand = rel_int_rand_1 + rel_int_rand_2 + rel_int_rand_3 + rel_int_rand_4 + rel_int_rand_5\n",
    "rel_int_rand = random.sample(rel_int_rand, len(rel_int_rand)-50)\n",
    "#print(rel_int_rand)\n",
    "\n",
    "plt.suptitle('Massenspektrum (Beispielabbildung)')\n",
    "plt.bar(mz_rand, rel_int_rand)\n",
    "plt.xlabel('m/z-Verhältnis')\n",
    "plt.ylabel('relative Intensität in %')\n",
    "plt.show()"
   ]
  }
 ],
 "metadata": {
  "kernelspec": {
   "display_name": "Python 3",
   "language": "python",
   "name": "python3"
  },
  "language_info": {
   "codemirror_mode": {
    "name": "ipython",
    "version": 3
   },
   "file_extension": ".py",
   "mimetype": "text/x-python",
   "name": "python",
   "nbconvert_exporter": "python",
   "pygments_lexer": "ipython3",
   "version": "3.9.3"
  }
 },
 "nbformat": 4,
 "nbformat_minor": 4
}
