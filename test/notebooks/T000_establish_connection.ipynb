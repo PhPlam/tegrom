{
 "cells": [
  {
   "cell_type": "markdown",
   "id": "dd2ad0a4",
   "metadata": {},
   "source": [
    "# connect to graph"
   ]
  },
  {
   "cell_type": "code",
   "execution_count": 1,
   "id": "3fd91907",
   "metadata": {},
   "outputs": [],
   "source": [
    "from py2neo import Graph\n",
    "\n",
    "# host + port\n",
    "host = 'http://localhost:7474'\n",
    "\n",
    "# select database name\n",
    "db_name_com = 'modelsmash'\n",
    "db_name_par = 'modeltemporal'\n",
    "\n",
    "# credentials for API\n",
    "user = 'neo4j'\n",
    "passwd = '1234'\n",
    "\n",
    "# connect to database\n",
    "call_graph_com = Graph(host, auth=(user, passwd), name=db_name_com)\n",
    "call_graph_par = Graph(host, auth=(user, passwd), name=db_name_par)"
   ]
  }
 ],
 "metadata": {
  "kernelspec": {
   "display_name": "Python 3 (ipykernel)",
   "language": "python",
   "name": "python3"
  },
  "language_info": {
   "codemirror_mode": {
    "name": "ipython",
    "version": 3
   },
   "file_extension": ".py",
   "mimetype": "text/x-python",
   "name": "python",
   "nbconvert_exporter": "python",
   "pygments_lexer": "ipython3",
   "version": "3.10.7"
  }
 },
 "nbformat": 4,
 "nbformat_minor": 5
}
