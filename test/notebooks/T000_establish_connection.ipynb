{
 "cells": [
  {
   "cell_type": "markdown",
   "id": "dd2ad0a4",
   "metadata": {},
   "source": [
    "# connect to graph"
   ]
  },
  {
   "cell_type": "code",
   "execution_count": 1,
   "id": "3fd91907",
   "metadata": {},
   "outputs": [],
   "source": [
    "from neo4j import GraphDatabase\n",
    "\n",
    "# host + port\n",
    "URI = 'bolt://localhost:7687'\n",
    "\n",
    "# select database name\n",
    "db_name_light = 'modellightprt'\n",
    "db_name_temporal = 'modeltemporal'\n",
    "\n",
    "# credentials for API\n",
    "user = 'neo4j'\n",
    "passwd = 'test1234'\n",
    "AUTH = (user, passwd)\n",
    "\n",
    "# connect to database\n",
    "driver_light = GraphDatabase.driver(URI, auth=AUTH, database=db_name_light)\n",
    "session_light = driver_light.session()\n",
    "\n",
    "driver_temporal = GraphDatabase.driver(URI, auth=AUTH, database=db_name_temporal)\n",
    "session_temporal = driver_temporal.session()"
   ]
  }
 ],
 "metadata": {
  "kernelspec": {
   "display_name": "Python 3 (ipykernel)",
   "language": "python",
   "name": "python3"
  },
  "language_info": {
   "codemirror_mode": {
    "name": "ipython",
    "version": 3
   },
   "file_extension": ".py",
   "mimetype": "text/x-python",
   "name": "python",
   "nbconvert_exporter": "python",
   "pygments_lexer": "ipython3",
   "version": "3.10.10"
  }
 },
 "nbformat": 4,
 "nbformat_minor": 5
}
