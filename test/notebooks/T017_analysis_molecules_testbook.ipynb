{
 "cells": [
  {
   "cell_type": "markdown",
   "metadata": {},
   "source": [
    "# Test Notebook Data"
   ]
  },
  {
   "cell_type": "code",
   "execution_count": 1,
   "metadata": {},
   "outputs": [],
   "source": [
    "import pandas as pd\n",
    "import numpy as np\n",
    "import matplotlib.pyplot as plt\n",
    "\n",
    "# load data\n",
    "df = pd.read_csv('/home/philipp/Desktop/github/temporal-graphs-neo4j/models/files_for_model/ufz_all_formulas_cleaned.csv', sep=',')\n",
    "df_meta = pd.read_csv('/home/philipp/Desktop/github/notes-files/home-tests/molecule_to_visibility_graph/data/map_measurement_time.csv')\n",
    "df_mol_meta = df.merge(df_meta, left_on=\"measurement_id\", right_on=\"measurement_id\")"
   ]
  },
  {
   "cell_type": "markdown",
   "metadata": {},
   "source": [
    "## Test functions here"
   ]
  },
  {
   "cell_type": "code",
   "execution_count": 3,
   "metadata": {},
   "outputs": [
    {
     "data": {
      "text/plain": [
       "0        581.151157\n",
       "1        296.041241\n",
       "2        331.024741\n",
       "3        411.075636\n",
       "4        385.092950\n",
       "            ...    \n",
       "64783    449.036086\n",
       "64784    257.048882\n",
       "64785    237.004057\n",
       "64786    286.035669\n",
       "64787    351.156162\n",
       "Name: peak_mz, Length: 64788, dtype: float64"
      ]
     },
     "execution_count": 3,
     "metadata": {},
     "output_type": "execute_result"
    }
   ],
   "source": [
    "df_mol_meta.peak_mz"
   ]
  },
  {
   "cell_type": "code",
   "execution_count": null,
   "metadata": {},
   "outputs": [],
   "source": []
  }
 ],
 "metadata": {
  "kernelspec": {
   "display_name": "Python 3 (ipykernel)",
   "language": "python",
   "name": "python3"
  },
  "language_info": {
   "codemirror_mode": {
    "name": "ipython",
    "version": 3
   },
   "file_extension": ".py",
   "mimetype": "text/x-python",
   "name": "python",
   "nbconvert_exporter": "python",
   "pygments_lexer": "ipython3",
   "version": "3.10.4"
  }
 },
 "nbformat": 4,
 "nbformat_minor": 4
}
