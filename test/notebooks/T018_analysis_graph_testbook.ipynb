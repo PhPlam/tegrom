{
 "cells": [
  {
   "cell_type": "markdown",
   "metadata": {},
   "source": [
    "# Test Notebook Graph"
   ]
  },
  {
   "cell_type": "code",
   "execution_count": 1,
   "metadata": {},
   "outputs": [],
   "source": [
    "import pandas as pd\n",
    "from py2neo import Graph\n",
    "import matplotlib.pyplot as plt\n",
    "import numpy as np\n",
    "import plotly.express as px\n",
    "\n",
    "# host + port\n",
    "host = 'http://localhost:7474'\n",
    "\n",
    "# select database name\n",
    "db_name = 'modelparallel'\n",
    "\n",
    "# credentials for API\n",
    "user = 'neo4j'\n",
    "passwd = '1234'\n",
    "\n",
    "# connect to database\n",
    "call_graph = Graph(host, auth=(user, passwd), name=db_name)"
   ]
  },
  {
   "cell_type": "markdown",
   "metadata": {},
   "source": [
    "## Test functions here"
   ]
  },
  {
   "cell_type": "code",
   "execution_count": 91,
   "metadata": {},
   "outputs": [
    {
     "name": "stderr",
     "output_type": "stream",
     "text": [
      "C:\\Users\\philipp\\AppData\\Local\\Temp/ipykernel_2928/1852821016.py:50: FutureWarning:\n",
      "\n",
      "In a future version of pandas all arguments of DataFrame.drop except for the argument 'labels' will be keyword-only\n",
      "\n",
      "C:\\Users\\philipp\\AppData\\Local\\Temp/ipykernel_2928/1852821016.py:52: FutureWarning:\n",
      "\n",
      "In a future version of pandas all arguments of DataFrame.drop except for the argument 'labels' will be keyword-only\n",
      "\n"
     ]
    },
    {
     "data": {
      "application/vnd.plotly.v1+json": {
       "config": {
        "plotlyServerURL": "https://plot.ly"
       },
       "data": [
        {
         "hovertemplate": "transformation_unit=-H2 -O1<br>measurement=%{x}<br>share in %=%{y}<extra></extra>",
         "legendgroup": "-H2 -O1",
         "line": {
          "color": "#636efa",
          "dash": "solid"
         },
         "marker": {
          "symbol": "circle"
         },
         "mode": "lines+markers",
         "name": "-H2 -O1",
         "orientation": "v",
         "showlegend": true,
         "type": "scatter",
         "x": [
          0,
          1,
          2,
          3,
          4,
          5,
          6,
          7,
          8,
          9,
          10,
          11
         ],
         "xaxis": "x",
         "y": [
          5.476190476190476,
          6.334026334026334,
          5.4829649529857125,
          5.49061282323769,
          6.087258419164448,
          4.347206385404789,
          6.300709939148073,
          6.055806019251858,
          5.50925424829527,
          4.935344827586207,
          5.6189218393564655,
          5.315203955500618
         ],
         "yaxis": "y"
        },
        {
         "hovertemplate": "transformation_unit=-C1<br>measurement=%{x}<br>share in %=%{y}<extra></extra>",
         "legendgroup": "-C1",
         "line": {
          "color": "#EF553B",
          "dash": "solid"
         },
         "marker": {
          "symbol": "diamond"
         },
         "mode": "lines+markers",
         "name": "-C1",
         "orientation": "v",
         "showlegend": true,
         "type": "scatter",
         "x": [
          0,
          1,
          2,
          3,
          4,
          5,
          6,
          7,
          8,
          9,
          10,
          11
         ],
         "xaxis": "x",
         "y": [
          7.083333333333333,
          6.541926541926542,
          5.690560507998534,
          6.978391781792419,
          7.186668209697952,
          7.183580387685291,
          6.883874239350912,
          7.664189106859998,
          7.035393440848576,
          7.0474137931034475,
          7.515908272301597,
          7.045735475896168
         ],
         "yaxis": "y"
        },
        {
         "hovertemplate": "transformation_unit=-C1 -H2<br>measurement=%{x}<br>share in %=%{y}<extra></extra>",
         "legendgroup": "-C1 -H2",
         "line": {
          "color": "#00cc96",
          "dash": "solid"
         },
         "marker": {
          "symbol": "square"
         },
         "mode": "lines+markers",
         "name": "-C1 -H2",
         "orientation": "v",
         "showlegend": true,
         "type": "scatter",
         "x": [
          0,
          1,
          2,
          3,
          4,
          5,
          6,
          7,
          8,
          9,
          10,
          11
         ],
         "xaxis": "x",
         "y": [
          7.05952380952381,
          6.874566874566875,
          6.899499328367321,
          6.990199551304759,
          7.475986575627822,
          6.513683010262258,
          7.074036511156187,
          7.3717558182039715,
          6.916332936464984,
          6.799568965517241,
          6.843558650498259,
          6.6187212046297335
         ],
         "yaxis": "y"
        },
        {
         "hovertemplate": "transformation_unit=-C1 -O1<br>measurement=%{x}<br>share in %=%{y}<extra></extra>",
         "legendgroup": "-C1 -O1",
         "line": {
          "color": "#ab63fa",
          "dash": "solid"
         },
         "marker": {
          "symbol": "x"
         },
         "mode": "lines+markers",
         "name": "-C1 -O1",
         "orientation": "v",
         "showlegend": true,
         "type": "scatter",
         "x": [
          0,
          1,
          2,
          3,
          4,
          5,
          6,
          7,
          8,
          9,
          10,
          11
         ],
         "xaxis": "x",
         "y": [
          7.023809523809524,
          7.650727650727651,
          6.606423250702162,
          7.202739402526863,
          6.8279134359449145,
          5.943557582668188,
          7.365618661257607,
          7.530157182892652,
          6.732330338781253,
          6.6594827586206895,
          8.068195461640054,
          7.068209911225981
         ],
         "yaxis": "y"
        },
        {
         "hovertemplate": "transformation_unit=-C2 -H4 -O1<br>measurement=%{x}<br>share in %=%{y}<extra></extra>",
         "legendgroup": "-C2 -H4 -O1",
         "line": {
          "color": "#FFA15A",
          "dash": "solid"
         },
         "marker": {
          "symbol": "cross"
         },
         "mode": "lines+markers",
         "name": "-C2 -H4 -O1",
         "orientation": "v",
         "showlegend": true,
         "type": "scatter",
         "x": [
          0,
          1,
          2,
          3,
          4,
          5,
          6,
          7,
          8,
          9,
          10,
          11
         ],
         "xaxis": "x",
         "y": [
          6.095238095238095,
          7.096327096327096,
          5.714983514470632,
          6.529696540323533,
          6.50387686610346,
          4.874572405929305,
          7.302231237322515,
          6.543194833678568,
          6.256088321246889,
          5.689655172413794,
          6.015127866490575,
          5.584897179458366
         ],
         "yaxis": "y"
        },
        {
         "hovertemplate": "transformation_unit=-H2 O1<br>measurement=%{x}<br>share in %=%{y}<extra></extra>",
         "legendgroup": "-H2 O1",
         "line": {
          "color": "#19d3f3",
          "dash": "solid"
         },
         "marker": {
          "symbol": "circle"
         },
         "mode": "lines+markers",
         "name": "-H2 O1",
         "orientation": "v",
         "showlegend": true,
         "type": "scatter",
         "x": [
          0,
          1,
          2,
          3,
          4,
          5,
          6,
          7,
          8,
          9,
          10,
          11
         ],
         "xaxis": "x",
         "y": [
          6.666666666666667,
          6.015246015246015,
          6.313347173037001,
          5.951115834218916,
          6.74690429348455,
          6.656214367160776,
          5.983772819472617,
          6.141099061776532,
          6.299383050113648,
          5.872844827586207,
          5.823027974546764,
          5.955725362400269
         ],
         "yaxis": "y"
        },
        {
         "hovertemplate": "transformation_unit=O2<br>measurement=%{x}<br>share in %=%{y}<extra></extra>",
         "legendgroup": "O2",
         "line": {
          "color": "#FF6692",
          "dash": "solid"
         },
         "marker": {
          "symbol": "diamond"
         },
         "mode": "lines+markers",
         "name": "O2",
         "orientation": "v",
         "showlegend": true,
         "type": "scatter",
         "x": [
          0,
          1,
          2,
          3,
          4,
          5,
          6,
          7,
          8,
          9,
          10,
          11
         ],
         "xaxis": "x",
         "y": [
          5.833333333333333,
          4.504504504504505,
          7.082671876908048,
          4.876608808596057,
          5.1730123828260615,
          8.409350057012542,
          4.449797160243408,
          5.0322895089557695,
          6.385972507847169,
          6.497844827586206,
          4.922559731060152,
          5.483762220474211
         ],
         "yaxis": "y"
        },
        {
         "hovertemplate": "transformation_unit=-C1 -O2<br>measurement=%{x}<br>share in %=%{y}<extra></extra>",
         "legendgroup": "-C1 -O2",
         "line": {
          "color": "#B6E880",
          "dash": "solid"
         },
         "marker": {
          "symbol": "square"
         },
         "mode": "lines+markers",
         "name": "-C1 -O2",
         "orientation": "v",
         "showlegend": true,
         "type": "scatter",
         "x": [
          0,
          1,
          2,
          3,
          4,
          5,
          6,
          7,
          8,
          9,
          10,
          11
         ],
         "xaxis": "x",
         "y": [
          5.607142857142857,
          7.484407484407485,
          5.5928684821101475,
          6.506081001298855,
          5.6706399722254375,
          4.475484606613455,
          7.568458417849899,
          6.384793468989887,
          5.4226647905617495,
          5.129310344827586,
          7.563933245287549,
          6.124283627373862
         ],
         "yaxis": "y"
        },
        {
         "hovertemplate": "transformation_unit=-C1 -H2 O1<br>measurement=%{x}<br>share in %=%{y}<extra></extra>",
         "legendgroup": "-C1 -H2 O1",
         "line": {
          "color": "#FF97FF",
          "dash": "solid"
         },
         "marker": {
          "symbol": "x"
         },
         "mode": "lines+markers",
         "name": "-C1 -H2 O1",
         "orientation": "v",
         "showlegend": true,
         "type": "scatter",
         "x": [
          0,
          1,
          2,
          3,
          4,
          5,
          6,
          7,
          8,
          9,
          10,
          11
         ],
         "xaxis": "x",
         "y": [
          6.488095238095239,
          5.516285516285516,
          6.740749786298693,
          5.998346912268272,
          6.4807313968290705,
          7.055302166476625,
          5.730223123732252,
          5.775557450956501,
          6.461738283364,
          6.745689655172414,
          5.354784487933725,
          6.124283627373862
         ],
         "yaxis": "y"
        },
        {
         "hovertemplate": "transformation_unit=O1<br>measurement=%{x}<br>share in %=%{y}<extra></extra>",
         "legendgroup": "O1",
         "line": {
          "color": "#FECB52",
          "dash": "solid"
         },
         "marker": {
          "symbol": "cross"
         },
         "mode": "lines+markers",
         "name": "O1",
         "orientation": "v",
         "showlegend": true,
         "type": "scatter",
         "x": [
          0,
          1,
          2,
          3,
          4,
          5,
          6,
          7,
          8,
          9,
          10,
          11
         ],
         "xaxis": "x",
         "y": [
          6.976190476190476,
          6.070686070686071,
          6.61863475393821,
          6.730428622033298,
          6.584886008563824,
          7.6111744583808445,
          6.059837728194726,
          6.701596198367247,
          6.808096114298085,
          7.176724137931034,
          6.05114659623004,
          6.6299584222946395
         ],
         "yaxis": "y"
        },
        {
         "hovertemplate": "transformation_unit=-H2<br>measurement=%{x}<br>share in %=%{y}<extra></extra>",
         "legendgroup": "-H2",
         "line": {
          "color": "#636efa",
          "dash": "solid"
         },
         "marker": {
          "symbol": "circle"
         },
         "mode": "lines+markers",
         "name": "-H2",
         "orientation": "v",
         "showlegend": true,
         "type": "scatter",
         "x": [
          0,
          1,
          2,
          3,
          4,
          5,
          6,
          7,
          8,
          9,
          10,
          11
         ],
         "xaxis": "x",
         "y": [
          6.738095238095237,
          6.652806652806653,
          6.166809134204421,
          6.553312079348212,
          6.96678625159125,
          6.171607753705816,
          6.706389452332657,
          6.799073961252589,
          6.591622469964283,
          6.508620689655173,
          6.459358866610637,
          6.427688504326329
         ],
         "yaxis": "y"
        },
        {
         "hovertemplate": "transformation_unit=-C4 -H4 -O1<br>measurement=%{x}<br>share in %=%{y}<extra></extra>",
         "legendgroup": "-C4 -H4 -O1",
         "line": {
          "color": "#EF553B",
          "dash": "solid"
         },
         "marker": {
          "symbol": "diamond"
         },
         "mode": "lines+markers",
         "name": "-C4 -H4 -O1",
         "orientation": "v",
         "showlegend": true,
         "type": "scatter",
         "x": [
          0,
          1,
          2,
          3,
          4,
          5,
          6,
          7,
          8,
          9,
          10,
          11
         ],
         "xaxis": "x",
         "y": [
          5.428571428571429,
          6.13998613998614,
          4.8235437782391015,
          6.8721218561813675,
          5.531767156579099,
          4.8175598631698975,
          6.579614604462475,
          5.641525526989156,
          5.725727892629073,
          6.088362068965517,
          5.871052947532717,
          5.618608832453085
         ],
         "yaxis": "y"
        },
        {
         "hovertemplate": "transformation_unit=-C2 -H2<br>measurement=%{x}<br>share in %=%{y}<extra></extra>",
         "legendgroup": "-C2 -H2",
         "line": {
          "color": "#00cc96",
          "dash": "solid"
         },
         "marker": {
          "symbol": "square"
         },
         "mode": "lines+markers",
         "name": "-C2 -H2",
         "orientation": "v",
         "showlegend": true,
         "type": "scatter",
         "x": [
          0,
          1,
          2,
          3,
          4,
          5,
          6,
          7,
          8,
          9,
          10,
          11
         ],
         "xaxis": "x",
         "y": [
          6.833333333333333,
          6.5142065142065135,
          5.898156063011357,
          6.777659700082654,
          6.318713111908345,
          6.143101482326112,
          6.351419878296147,
          6.7747045205312535,
          6.710682974347873,
          7.06896551724138,
          6.50738383959659,
          6.708618945948983
         ],
         "yaxis": "y"
        },
        {
         "hovertemplate": "transformation_unit=-S1<br>measurement=%{x}<br>share in %=%{y}<extra></extra>",
         "legendgroup": "-S1",
         "line": {
          "color": "#ab63fa",
          "dash": "solid"
         },
         "marker": {
          "symbol": "x"
         },
         "mode": "lines+markers",
         "name": "-S1",
         "orientation": "v",
         "showlegend": true,
         "type": "scatter",
         "x": [
          0,
          1,
          2,
          3,
          4,
          5,
          6,
          7,
          8,
          9,
          10,
          11
         ],
         "xaxis": "x",
         "y": [
          0.5595238095238095,
          0.7345807345807346,
          1.306630846257174,
          0.696658401228008,
          0.6133549357713227,
          0.5558722919042189,
          0.43103448275862066,
          0.5483124162300475,
          0.7251867085182379,
          0.7866379310344828,
          0.5402809460919678,
          1.1012473311608046
         ],
         "yaxis": "y"
        },
        {
         "hovertemplate": "transformation_unit=-H1 O1 -N1<br>measurement=%{x}<br>share in %=%{y}<extra></extra>",
         "legendgroup": "-H1 O1 -N1",
         "line": {
          "color": "#FFA15A",
          "dash": "solid"
         },
         "marker": {
          "symbol": "cross"
         },
         "mode": "lines+markers",
         "name": "-H1 O1 -N1",
         "orientation": "v",
         "showlegend": true,
         "type": "scatter",
         "x": [
          0,
          1,
          2,
          3,
          4,
          5,
          6,
          7,
          8,
          9,
          10,
          11
         ],
         "xaxis": "x",
         "y": [
          1.9047619047619049,
          2.051282051282051,
          3.1872023446086217,
          1.664895501239816,
          1.8284920726767735,
          2.209236031927024,
          1.6100405679513183,
          1.1209942731814304,
          1.9374391167875311,
          1.4655172413793103,
          1.0685556489374475,
          2.1687830093268907
         ],
         "yaxis": "y"
        },
        {
         "hovertemplate": "transformation_unit=-H4 O2<br>measurement=%{x}<br>share in %=%{y}<extra></extra>",
         "legendgroup": "-H4 O2",
         "line": {
          "color": "#19d3f3",
          "dash": "solid"
         },
         "marker": {
          "symbol": "circle"
         },
         "mode": "lines+markers",
         "name": "-H4 O2",
         "orientation": "v",
         "showlegend": true,
         "type": "scatter",
         "x": [
          0,
          1,
          2,
          3,
          4,
          5,
          6,
          7,
          8,
          9,
          10,
          11
         ],
         "xaxis": "x",
         "y": [
          5.440476190476191,
          4.587664587664587,
          7.497862986933692,
          4.593222340299918,
          6.168267561624812,
          6.812998859749145,
          4.386409736308316,
          4.4352382112830515,
          5.433488472778439,
          5.269396551724138,
          3.8059791091367514,
          4.528598718957187
         ],
         "yaxis": "y"
        },
        {
         "hovertemplate": "transformation_unit=H2 O1<br>measurement=%{x}<br>share in %=%{y}<extra></extra>",
         "legendgroup": "H2 O1",
         "line": {
          "color": "#FF6692",
          "dash": "solid"
         },
         "marker": {
          "symbol": "diamond"
         },
         "mode": "lines+markers",
         "name": "H2 O1",
         "orientation": "v",
         "showlegend": true,
         "type": "scatter",
         "x": [
          0,
          1,
          2,
          3,
          4,
          5,
          6,
          7,
          8,
          9,
          10,
          11
         ],
         "xaxis": "x",
         "y": [
          6.761904761904762,
          5.641025641025641,
          6.02027109537184,
          6.399811075687803,
          5.659067237588243,
          8.195553021664766,
          5.730223123732252,
          5.99488241744852,
          6.559151423314212,
          7.155172413793104,
          6.555408812582543,
          7.000786605236543
         ],
         "yaxis": "y"
        },
        {
         "hovertemplate": "transformation_unit=H1 -O1 N1<br>measurement=%{x}<br>share in %=%{y}<extra></extra>",
         "legendgroup": "H1 -O1 N1",
         "line": {
          "color": "#B6E880",
          "dash": "solid"
         },
         "marker": {
          "symbol": "square"
         },
         "mode": "lines+markers",
         "name": "H1 -O1 N1",
         "orientation": "v",
         "showlegend": true,
         "type": "scatter",
         "x": [
          0,
          1,
          2,
          3,
          4,
          5,
          6,
          7,
          8,
          9,
          10,
          11
         ],
         "xaxis": "x",
         "y": [
          1.2142857142857142,
          1.995841995841996,
          0.9280742459396751,
          2.078167434171685,
          1.6086101145700729,
          1.582098061573546,
          2.1171399594320484,
          2.6197148775435606,
          1.6668470613702782,
          2.3168103448275863,
          3.8419978388762157,
          2.719406674907293
         ],
         "yaxis": "y"
        },
        {
         "hovertemplate": "transformation_unit=-O1 -S1<br>measurement=%{x}<br>share in %=%{y}<extra></extra>",
         "legendgroup": "-O1 -S1",
         "line": {
          "color": "#FF97FF",
          "dash": "solid"
         },
         "marker": {
          "symbol": "x"
         },
         "mode": "lines+markers",
         "name": "-O1 -S1",
         "orientation": "v",
         "showlegend": true,
         "type": "scatter",
         "x": [
          0,
          1,
          2,
          3,
          4,
          5,
          6,
          7,
          8,
          9,
          10,
          11
         ],
         "xaxis": "x",
         "y": [
          0.4642857142857143,
          0.7207207207207207,
          0.989131762119917,
          0.5667729365922777,
          0.2546001620182849,
          0.34207525655644244,
          0.6085192697768762,
          0.43864993298403804,
          0.5303604286178157,
          0.4956896551724138,
          0.7443870812822667,
          1.0450612428362738
         ],
         "yaxis": "y"
        },
        {
         "hovertemplate": "transformation_unit=-O3 -S1<br>measurement=%{x}<br>share in %=%{y}<extra></extra>",
         "legendgroup": "-O3 -S1",
         "line": {
          "color": "#FECB52",
          "dash": "solid"
         },
         "marker": {
          "symbol": "cross"
         },
         "mode": "lines+markers",
         "name": "-O3 -S1",
         "orientation": "v",
         "showlegend": true,
         "type": "scatter",
         "x": [
          0,
          1,
          2,
          3,
          4,
          5,
          6,
          7,
          8,
          9,
          10,
          11
         ],
         "xaxis": "x",
         "y": [
          0.34523809523809523,
          0.8731808731808732,
          0.43961411649774085,
          0.5431573975675995,
          0.31246383520425874,
          0.09977194982896237,
          0.7606490872210954,
          0.4264652126233703,
          0.29223941985063323,
          0.290948275862069,
          0.8284307840076839,
          0.730419148218901
         ],
         "yaxis": "y"
        }
       ],
       "layout": {
        "legend": {
         "title": {
          "text": "transformation_unit"
         },
         "tracegroupgap": 0
        },
        "template": {
         "data": {
          "bar": [
           {
            "error_x": {
             "color": "#2a3f5f"
            },
            "error_y": {
             "color": "#2a3f5f"
            },
            "marker": {
             "line": {
              "color": "#E5ECF6",
              "width": 0.5
             },
             "pattern": {
              "fillmode": "overlay",
              "size": 10,
              "solidity": 0.2
             }
            },
            "type": "bar"
           }
          ],
          "barpolar": [
           {
            "marker": {
             "line": {
              "color": "#E5ECF6",
              "width": 0.5
             },
             "pattern": {
              "fillmode": "overlay",
              "size": 10,
              "solidity": 0.2
             }
            },
            "type": "barpolar"
           }
          ],
          "carpet": [
           {
            "aaxis": {
             "endlinecolor": "#2a3f5f",
             "gridcolor": "white",
             "linecolor": "white",
             "minorgridcolor": "white",
             "startlinecolor": "#2a3f5f"
            },
            "baxis": {
             "endlinecolor": "#2a3f5f",
             "gridcolor": "white",
             "linecolor": "white",
             "minorgridcolor": "white",
             "startlinecolor": "#2a3f5f"
            },
            "type": "carpet"
           }
          ],
          "choropleth": [
           {
            "colorbar": {
             "outlinewidth": 0,
             "ticks": ""
            },
            "type": "choropleth"
           }
          ],
          "contour": [
           {
            "colorbar": {
             "outlinewidth": 0,
             "ticks": ""
            },
            "colorscale": [
             [
              0,
              "#0d0887"
             ],
             [
              0.1111111111111111,
              "#46039f"
             ],
             [
              0.2222222222222222,
              "#7201a8"
             ],
             [
              0.3333333333333333,
              "#9c179e"
             ],
             [
              0.4444444444444444,
              "#bd3786"
             ],
             [
              0.5555555555555556,
              "#d8576b"
             ],
             [
              0.6666666666666666,
              "#ed7953"
             ],
             [
              0.7777777777777778,
              "#fb9f3a"
             ],
             [
              0.8888888888888888,
              "#fdca26"
             ],
             [
              1,
              "#f0f921"
             ]
            ],
            "type": "contour"
           }
          ],
          "contourcarpet": [
           {
            "colorbar": {
             "outlinewidth": 0,
             "ticks": ""
            },
            "type": "contourcarpet"
           }
          ],
          "heatmap": [
           {
            "colorbar": {
             "outlinewidth": 0,
             "ticks": ""
            },
            "colorscale": [
             [
              0,
              "#0d0887"
             ],
             [
              0.1111111111111111,
              "#46039f"
             ],
             [
              0.2222222222222222,
              "#7201a8"
             ],
             [
              0.3333333333333333,
              "#9c179e"
             ],
             [
              0.4444444444444444,
              "#bd3786"
             ],
             [
              0.5555555555555556,
              "#d8576b"
             ],
             [
              0.6666666666666666,
              "#ed7953"
             ],
             [
              0.7777777777777778,
              "#fb9f3a"
             ],
             [
              0.8888888888888888,
              "#fdca26"
             ],
             [
              1,
              "#f0f921"
             ]
            ],
            "type": "heatmap"
           }
          ],
          "heatmapgl": [
           {
            "colorbar": {
             "outlinewidth": 0,
             "ticks": ""
            },
            "colorscale": [
             [
              0,
              "#0d0887"
             ],
             [
              0.1111111111111111,
              "#46039f"
             ],
             [
              0.2222222222222222,
              "#7201a8"
             ],
             [
              0.3333333333333333,
              "#9c179e"
             ],
             [
              0.4444444444444444,
              "#bd3786"
             ],
             [
              0.5555555555555556,
              "#d8576b"
             ],
             [
              0.6666666666666666,
              "#ed7953"
             ],
             [
              0.7777777777777778,
              "#fb9f3a"
             ],
             [
              0.8888888888888888,
              "#fdca26"
             ],
             [
              1,
              "#f0f921"
             ]
            ],
            "type": "heatmapgl"
           }
          ],
          "histogram": [
           {
            "marker": {
             "pattern": {
              "fillmode": "overlay",
              "size": 10,
              "solidity": 0.2
             }
            },
            "type": "histogram"
           }
          ],
          "histogram2d": [
           {
            "colorbar": {
             "outlinewidth": 0,
             "ticks": ""
            },
            "colorscale": [
             [
              0,
              "#0d0887"
             ],
             [
              0.1111111111111111,
              "#46039f"
             ],
             [
              0.2222222222222222,
              "#7201a8"
             ],
             [
              0.3333333333333333,
              "#9c179e"
             ],
             [
              0.4444444444444444,
              "#bd3786"
             ],
             [
              0.5555555555555556,
              "#d8576b"
             ],
             [
              0.6666666666666666,
              "#ed7953"
             ],
             [
              0.7777777777777778,
              "#fb9f3a"
             ],
             [
              0.8888888888888888,
              "#fdca26"
             ],
             [
              1,
              "#f0f921"
             ]
            ],
            "type": "histogram2d"
           }
          ],
          "histogram2dcontour": [
           {
            "colorbar": {
             "outlinewidth": 0,
             "ticks": ""
            },
            "colorscale": [
             [
              0,
              "#0d0887"
             ],
             [
              0.1111111111111111,
              "#46039f"
             ],
             [
              0.2222222222222222,
              "#7201a8"
             ],
             [
              0.3333333333333333,
              "#9c179e"
             ],
             [
              0.4444444444444444,
              "#bd3786"
             ],
             [
              0.5555555555555556,
              "#d8576b"
             ],
             [
              0.6666666666666666,
              "#ed7953"
             ],
             [
              0.7777777777777778,
              "#fb9f3a"
             ],
             [
              0.8888888888888888,
              "#fdca26"
             ],
             [
              1,
              "#f0f921"
             ]
            ],
            "type": "histogram2dcontour"
           }
          ],
          "mesh3d": [
           {
            "colorbar": {
             "outlinewidth": 0,
             "ticks": ""
            },
            "type": "mesh3d"
           }
          ],
          "parcoords": [
           {
            "line": {
             "colorbar": {
              "outlinewidth": 0,
              "ticks": ""
             }
            },
            "type": "parcoords"
           }
          ],
          "pie": [
           {
            "automargin": true,
            "type": "pie"
           }
          ],
          "scatter": [
           {
            "marker": {
             "colorbar": {
              "outlinewidth": 0,
              "ticks": ""
             }
            },
            "type": "scatter"
           }
          ],
          "scatter3d": [
           {
            "line": {
             "colorbar": {
              "outlinewidth": 0,
              "ticks": ""
             }
            },
            "marker": {
             "colorbar": {
              "outlinewidth": 0,
              "ticks": ""
             }
            },
            "type": "scatter3d"
           }
          ],
          "scattercarpet": [
           {
            "marker": {
             "colorbar": {
              "outlinewidth": 0,
              "ticks": ""
             }
            },
            "type": "scattercarpet"
           }
          ],
          "scattergeo": [
           {
            "marker": {
             "colorbar": {
              "outlinewidth": 0,
              "ticks": ""
             }
            },
            "type": "scattergeo"
           }
          ],
          "scattergl": [
           {
            "marker": {
             "colorbar": {
              "outlinewidth": 0,
              "ticks": ""
             }
            },
            "type": "scattergl"
           }
          ],
          "scattermapbox": [
           {
            "marker": {
             "colorbar": {
              "outlinewidth": 0,
              "ticks": ""
             }
            },
            "type": "scattermapbox"
           }
          ],
          "scatterpolar": [
           {
            "marker": {
             "colorbar": {
              "outlinewidth": 0,
              "ticks": ""
             }
            },
            "type": "scatterpolar"
           }
          ],
          "scatterpolargl": [
           {
            "marker": {
             "colorbar": {
              "outlinewidth": 0,
              "ticks": ""
             }
            },
            "type": "scatterpolargl"
           }
          ],
          "scatterternary": [
           {
            "marker": {
             "colorbar": {
              "outlinewidth": 0,
              "ticks": ""
             }
            },
            "type": "scatterternary"
           }
          ],
          "surface": [
           {
            "colorbar": {
             "outlinewidth": 0,
             "ticks": ""
            },
            "colorscale": [
             [
              0,
              "#0d0887"
             ],
             [
              0.1111111111111111,
              "#46039f"
             ],
             [
              0.2222222222222222,
              "#7201a8"
             ],
             [
              0.3333333333333333,
              "#9c179e"
             ],
             [
              0.4444444444444444,
              "#bd3786"
             ],
             [
              0.5555555555555556,
              "#d8576b"
             ],
             [
              0.6666666666666666,
              "#ed7953"
             ],
             [
              0.7777777777777778,
              "#fb9f3a"
             ],
             [
              0.8888888888888888,
              "#fdca26"
             ],
             [
              1,
              "#f0f921"
             ]
            ],
            "type": "surface"
           }
          ],
          "table": [
           {
            "cells": {
             "fill": {
              "color": "#EBF0F8"
             },
             "line": {
              "color": "white"
             }
            },
            "header": {
             "fill": {
              "color": "#C8D4E3"
             },
             "line": {
              "color": "white"
             }
            },
            "type": "table"
           }
          ]
         },
         "layout": {
          "annotationdefaults": {
           "arrowcolor": "#2a3f5f",
           "arrowhead": 0,
           "arrowwidth": 1
          },
          "autotypenumbers": "strict",
          "coloraxis": {
           "colorbar": {
            "outlinewidth": 0,
            "ticks": ""
           }
          },
          "colorscale": {
           "diverging": [
            [
             0,
             "#8e0152"
            ],
            [
             0.1,
             "#c51b7d"
            ],
            [
             0.2,
             "#de77ae"
            ],
            [
             0.3,
             "#f1b6da"
            ],
            [
             0.4,
             "#fde0ef"
            ],
            [
             0.5,
             "#f7f7f7"
            ],
            [
             0.6,
             "#e6f5d0"
            ],
            [
             0.7,
             "#b8e186"
            ],
            [
             0.8,
             "#7fbc41"
            ],
            [
             0.9,
             "#4d9221"
            ],
            [
             1,
             "#276419"
            ]
           ],
           "sequential": [
            [
             0,
             "#0d0887"
            ],
            [
             0.1111111111111111,
             "#46039f"
            ],
            [
             0.2222222222222222,
             "#7201a8"
            ],
            [
             0.3333333333333333,
             "#9c179e"
            ],
            [
             0.4444444444444444,
             "#bd3786"
            ],
            [
             0.5555555555555556,
             "#d8576b"
            ],
            [
             0.6666666666666666,
             "#ed7953"
            ],
            [
             0.7777777777777778,
             "#fb9f3a"
            ],
            [
             0.8888888888888888,
             "#fdca26"
            ],
            [
             1,
             "#f0f921"
            ]
           ],
           "sequentialminus": [
            [
             0,
             "#0d0887"
            ],
            [
             0.1111111111111111,
             "#46039f"
            ],
            [
             0.2222222222222222,
             "#7201a8"
            ],
            [
             0.3333333333333333,
             "#9c179e"
            ],
            [
             0.4444444444444444,
             "#bd3786"
            ],
            [
             0.5555555555555556,
             "#d8576b"
            ],
            [
             0.6666666666666666,
             "#ed7953"
            ],
            [
             0.7777777777777778,
             "#fb9f3a"
            ],
            [
             0.8888888888888888,
             "#fdca26"
            ],
            [
             1,
             "#f0f921"
            ]
           ]
          },
          "colorway": [
           "#636efa",
           "#EF553B",
           "#00cc96",
           "#ab63fa",
           "#FFA15A",
           "#19d3f3",
           "#FF6692",
           "#B6E880",
           "#FF97FF",
           "#FECB52"
          ],
          "font": {
           "color": "#2a3f5f"
          },
          "geo": {
           "bgcolor": "white",
           "lakecolor": "white",
           "landcolor": "#E5ECF6",
           "showlakes": true,
           "showland": true,
           "subunitcolor": "white"
          },
          "hoverlabel": {
           "align": "left"
          },
          "hovermode": "closest",
          "mapbox": {
           "style": "light"
          },
          "paper_bgcolor": "white",
          "plot_bgcolor": "#E5ECF6",
          "polar": {
           "angularaxis": {
            "gridcolor": "white",
            "linecolor": "white",
            "ticks": ""
           },
           "bgcolor": "#E5ECF6",
           "radialaxis": {
            "gridcolor": "white",
            "linecolor": "white",
            "ticks": ""
           }
          },
          "scene": {
           "xaxis": {
            "backgroundcolor": "#E5ECF6",
            "gridcolor": "white",
            "gridwidth": 2,
            "linecolor": "white",
            "showbackground": true,
            "ticks": "",
            "zerolinecolor": "white"
           },
           "yaxis": {
            "backgroundcolor": "#E5ECF6",
            "gridcolor": "white",
            "gridwidth": 2,
            "linecolor": "white",
            "showbackground": true,
            "ticks": "",
            "zerolinecolor": "white"
           },
           "zaxis": {
            "backgroundcolor": "#E5ECF6",
            "gridcolor": "white",
            "gridwidth": 2,
            "linecolor": "white",
            "showbackground": true,
            "ticks": "",
            "zerolinecolor": "white"
           }
          },
          "shapedefaults": {
           "line": {
            "color": "#2a3f5f"
           }
          },
          "ternary": {
           "aaxis": {
            "gridcolor": "white",
            "linecolor": "white",
            "ticks": ""
           },
           "baxis": {
            "gridcolor": "white",
            "linecolor": "white",
            "ticks": ""
           },
           "bgcolor": "#E5ECF6",
           "caxis": {
            "gridcolor": "white",
            "linecolor": "white",
            "ticks": ""
           }
          },
          "title": {
           "x": 0.05
          },
          "xaxis": {
           "automargin": true,
           "gridcolor": "white",
           "linecolor": "white",
           "ticks": "",
           "title": {
            "standoff": 15
           },
           "zerolinecolor": "white",
           "zerolinewidth": 2
          },
          "yaxis": {
           "automargin": true,
           "gridcolor": "white",
           "linecolor": "white",
           "ticks": "",
           "title": {
            "standoff": 15
           },
           "zerolinecolor": "white",
           "zerolinewidth": 2
          }
         }
        },
        "title": {
         "text": "Transformations and their share per measurement - HTI"
        },
        "xaxis": {
         "anchor": "y",
         "domain": [
          0,
          1
         ],
         "dtick": 1,
         "tick0": 0,
         "tickmode": "linear",
         "title": {
          "text": "measurement"
         }
        },
        "yaxis": {
         "anchor": "x",
         "domain": [
          0,
          1
         ],
         "title": {
          "text": "share in %"
         }
        }
       }
      },
      "text/html": [
       "<div>                            <div id=\"df5e0f48-f3b8-4181-a196-1fbdcd9db77f\" class=\"plotly-graph-div\" style=\"height:525px; width:100%;\"></div>            <script type=\"text/javascript\">                require([\"plotly\"], function(Plotly) {                    window.PLOTLYENV=window.PLOTLYENV || {};                                    if (document.getElementById(\"df5e0f48-f3b8-4181-a196-1fbdcd9db77f\")) {                    Plotly.newPlot(                        \"df5e0f48-f3b8-4181-a196-1fbdcd9db77f\",                        [{\"hovertemplate\":\"transformation_unit=-H2 -O1<br>measurement=%{x}<br>share in %=%{y}<extra></extra>\",\"legendgroup\":\"-H2 -O1\",\"line\":{\"color\":\"#636efa\",\"dash\":\"solid\"},\"marker\":{\"symbol\":\"circle\"},\"mode\":\"lines+markers\",\"name\":\"-H2 -O1\",\"orientation\":\"v\",\"showlegend\":true,\"type\":\"scatter\",\"x\":[0,1,2,3,4,5,6,7,8,9,10,11],\"xaxis\":\"x\",\"y\":[5.476190476190476,6.334026334026334,5.4829649529857125,5.49061282323769,6.087258419164448,4.347206385404789,6.300709939148073,6.055806019251858,5.50925424829527,4.935344827586207,5.6189218393564655,5.315203955500618],\"yaxis\":\"y\"},{\"hovertemplate\":\"transformation_unit=-C1<br>measurement=%{x}<br>share in %=%{y}<extra></extra>\",\"legendgroup\":\"-C1\",\"line\":{\"color\":\"#EF553B\",\"dash\":\"solid\"},\"marker\":{\"symbol\":\"diamond\"},\"mode\":\"lines+markers\",\"name\":\"-C1\",\"orientation\":\"v\",\"showlegend\":true,\"type\":\"scatter\",\"x\":[0,1,2,3,4,5,6,7,8,9,10,11],\"xaxis\":\"x\",\"y\":[7.083333333333333,6.541926541926542,5.690560507998534,6.978391781792419,7.186668209697952,7.183580387685291,6.883874239350912,7.664189106859998,7.035393440848576,7.0474137931034475,7.515908272301597,7.045735475896168],\"yaxis\":\"y\"},{\"hovertemplate\":\"transformation_unit=-C1 -H2<br>measurement=%{x}<br>share in %=%{y}<extra></extra>\",\"legendgroup\":\"-C1 -H2\",\"line\":{\"color\":\"#00cc96\",\"dash\":\"solid\"},\"marker\":{\"symbol\":\"square\"},\"mode\":\"lines+markers\",\"name\":\"-C1 -H2\",\"orientation\":\"v\",\"showlegend\":true,\"type\":\"scatter\",\"x\":[0,1,2,3,4,5,6,7,8,9,10,11],\"xaxis\":\"x\",\"y\":[7.05952380952381,6.874566874566875,6.899499328367321,6.990199551304759,7.475986575627822,6.513683010262258,7.074036511156187,7.3717558182039715,6.916332936464984,6.799568965517241,6.843558650498259,6.6187212046297335],\"yaxis\":\"y\"},{\"hovertemplate\":\"transformation_unit=-C1 -O1<br>measurement=%{x}<br>share in %=%{y}<extra></extra>\",\"legendgroup\":\"-C1 -O1\",\"line\":{\"color\":\"#ab63fa\",\"dash\":\"solid\"},\"marker\":{\"symbol\":\"x\"},\"mode\":\"lines+markers\",\"name\":\"-C1 -O1\",\"orientation\":\"v\",\"showlegend\":true,\"type\":\"scatter\",\"x\":[0,1,2,3,4,5,6,7,8,9,10,11],\"xaxis\":\"x\",\"y\":[7.023809523809524,7.650727650727651,6.606423250702162,7.202739402526863,6.8279134359449145,5.943557582668188,7.365618661257607,7.530157182892652,6.732330338781253,6.6594827586206895,8.068195461640054,7.068209911225981],\"yaxis\":\"y\"},{\"hovertemplate\":\"transformation_unit=-C2 -H4 -O1<br>measurement=%{x}<br>share in %=%{y}<extra></extra>\",\"legendgroup\":\"-C2 -H4 -O1\",\"line\":{\"color\":\"#FFA15A\",\"dash\":\"solid\"},\"marker\":{\"symbol\":\"cross\"},\"mode\":\"lines+markers\",\"name\":\"-C2 -H4 -O1\",\"orientation\":\"v\",\"showlegend\":true,\"type\":\"scatter\",\"x\":[0,1,2,3,4,5,6,7,8,9,10,11],\"xaxis\":\"x\",\"y\":[6.095238095238095,7.096327096327096,5.714983514470632,6.529696540323533,6.50387686610346,4.874572405929305,7.302231237322515,6.543194833678568,6.256088321246889,5.689655172413794,6.015127866490575,5.584897179458366],\"yaxis\":\"y\"},{\"hovertemplate\":\"transformation_unit=-H2 O1<br>measurement=%{x}<br>share in %=%{y}<extra></extra>\",\"legendgroup\":\"-H2 O1\",\"line\":{\"color\":\"#19d3f3\",\"dash\":\"solid\"},\"marker\":{\"symbol\":\"circle\"},\"mode\":\"lines+markers\",\"name\":\"-H2 O1\",\"orientation\":\"v\",\"showlegend\":true,\"type\":\"scatter\",\"x\":[0,1,2,3,4,5,6,7,8,9,10,11],\"xaxis\":\"x\",\"y\":[6.666666666666667,6.015246015246015,6.313347173037001,5.951115834218916,6.74690429348455,6.656214367160776,5.983772819472617,6.141099061776532,6.299383050113648,5.872844827586207,5.823027974546764,5.955725362400269],\"yaxis\":\"y\"},{\"hovertemplate\":\"transformation_unit=O2<br>measurement=%{x}<br>share in %=%{y}<extra></extra>\",\"legendgroup\":\"O2\",\"line\":{\"color\":\"#FF6692\",\"dash\":\"solid\"},\"marker\":{\"symbol\":\"diamond\"},\"mode\":\"lines+markers\",\"name\":\"O2\",\"orientation\":\"v\",\"showlegend\":true,\"type\":\"scatter\",\"x\":[0,1,2,3,4,5,6,7,8,9,10,11],\"xaxis\":\"x\",\"y\":[5.833333333333333,4.504504504504505,7.082671876908048,4.876608808596057,5.1730123828260615,8.409350057012542,4.449797160243408,5.0322895089557695,6.385972507847169,6.497844827586206,4.922559731060152,5.483762220474211],\"yaxis\":\"y\"},{\"hovertemplate\":\"transformation_unit=-C1 -O2<br>measurement=%{x}<br>share in %=%{y}<extra></extra>\",\"legendgroup\":\"-C1 -O2\",\"line\":{\"color\":\"#B6E880\",\"dash\":\"solid\"},\"marker\":{\"symbol\":\"square\"},\"mode\":\"lines+markers\",\"name\":\"-C1 -O2\",\"orientation\":\"v\",\"showlegend\":true,\"type\":\"scatter\",\"x\":[0,1,2,3,4,5,6,7,8,9,10,11],\"xaxis\":\"x\",\"y\":[5.607142857142857,7.484407484407485,5.5928684821101475,6.506081001298855,5.6706399722254375,4.475484606613455,7.568458417849899,6.384793468989887,5.4226647905617495,5.129310344827586,7.563933245287549,6.124283627373862],\"yaxis\":\"y\"},{\"hovertemplate\":\"transformation_unit=-C1 -H2 O1<br>measurement=%{x}<br>share in %=%{y}<extra></extra>\",\"legendgroup\":\"-C1 -H2 O1\",\"line\":{\"color\":\"#FF97FF\",\"dash\":\"solid\"},\"marker\":{\"symbol\":\"x\"},\"mode\":\"lines+markers\",\"name\":\"-C1 -H2 O1\",\"orientation\":\"v\",\"showlegend\":true,\"type\":\"scatter\",\"x\":[0,1,2,3,4,5,6,7,8,9,10,11],\"xaxis\":\"x\",\"y\":[6.488095238095239,5.516285516285516,6.740749786298693,5.998346912268272,6.4807313968290705,7.055302166476625,5.730223123732252,5.775557450956501,6.461738283364,6.745689655172414,5.354784487933725,6.124283627373862],\"yaxis\":\"y\"},{\"hovertemplate\":\"transformation_unit=O1<br>measurement=%{x}<br>share in %=%{y}<extra></extra>\",\"legendgroup\":\"O1\",\"line\":{\"color\":\"#FECB52\",\"dash\":\"solid\"},\"marker\":{\"symbol\":\"cross\"},\"mode\":\"lines+markers\",\"name\":\"O1\",\"orientation\":\"v\",\"showlegend\":true,\"type\":\"scatter\",\"x\":[0,1,2,3,4,5,6,7,8,9,10,11],\"xaxis\":\"x\",\"y\":[6.976190476190476,6.070686070686071,6.61863475393821,6.730428622033298,6.584886008563824,7.6111744583808445,6.059837728194726,6.701596198367247,6.808096114298085,7.176724137931034,6.05114659623004,6.6299584222946395],\"yaxis\":\"y\"},{\"hovertemplate\":\"transformation_unit=-H2<br>measurement=%{x}<br>share in %=%{y}<extra></extra>\",\"legendgroup\":\"-H2\",\"line\":{\"color\":\"#636efa\",\"dash\":\"solid\"},\"marker\":{\"symbol\":\"circle\"},\"mode\":\"lines+markers\",\"name\":\"-H2\",\"orientation\":\"v\",\"showlegend\":true,\"type\":\"scatter\",\"x\":[0,1,2,3,4,5,6,7,8,9,10,11],\"xaxis\":\"x\",\"y\":[6.738095238095237,6.652806652806653,6.166809134204421,6.553312079348212,6.96678625159125,6.171607753705816,6.706389452332657,6.799073961252589,6.591622469964283,6.508620689655173,6.459358866610637,6.427688504326329],\"yaxis\":\"y\"},{\"hovertemplate\":\"transformation_unit=-C4 -H4 -O1<br>measurement=%{x}<br>share in %=%{y}<extra></extra>\",\"legendgroup\":\"-C4 -H4 -O1\",\"line\":{\"color\":\"#EF553B\",\"dash\":\"solid\"},\"marker\":{\"symbol\":\"diamond\"},\"mode\":\"lines+markers\",\"name\":\"-C4 -H4 -O1\",\"orientation\":\"v\",\"showlegend\":true,\"type\":\"scatter\",\"x\":[0,1,2,3,4,5,6,7,8,9,10,11],\"xaxis\":\"x\",\"y\":[5.428571428571429,6.13998613998614,4.8235437782391015,6.8721218561813675,5.531767156579099,4.8175598631698975,6.579614604462475,5.641525526989156,5.725727892629073,6.088362068965517,5.871052947532717,5.618608832453085],\"yaxis\":\"y\"},{\"hovertemplate\":\"transformation_unit=-C2 -H2<br>measurement=%{x}<br>share in %=%{y}<extra></extra>\",\"legendgroup\":\"-C2 -H2\",\"line\":{\"color\":\"#00cc96\",\"dash\":\"solid\"},\"marker\":{\"symbol\":\"square\"},\"mode\":\"lines+markers\",\"name\":\"-C2 -H2\",\"orientation\":\"v\",\"showlegend\":true,\"type\":\"scatter\",\"x\":[0,1,2,3,4,5,6,7,8,9,10,11],\"xaxis\":\"x\",\"y\":[6.833333333333333,6.5142065142065135,5.898156063011357,6.777659700082654,6.318713111908345,6.143101482326112,6.351419878296147,6.7747045205312535,6.710682974347873,7.06896551724138,6.50738383959659,6.708618945948983],\"yaxis\":\"y\"},{\"hovertemplate\":\"transformation_unit=-S1<br>measurement=%{x}<br>share in %=%{y}<extra></extra>\",\"legendgroup\":\"-S1\",\"line\":{\"color\":\"#ab63fa\",\"dash\":\"solid\"},\"marker\":{\"symbol\":\"x\"},\"mode\":\"lines+markers\",\"name\":\"-S1\",\"orientation\":\"v\",\"showlegend\":true,\"type\":\"scatter\",\"x\":[0,1,2,3,4,5,6,7,8,9,10,11],\"xaxis\":\"x\",\"y\":[0.5595238095238095,0.7345807345807346,1.306630846257174,0.696658401228008,0.6133549357713227,0.5558722919042189,0.43103448275862066,0.5483124162300475,0.7251867085182379,0.7866379310344828,0.5402809460919678,1.1012473311608046],\"yaxis\":\"y\"},{\"hovertemplate\":\"transformation_unit=-H1 O1 -N1<br>measurement=%{x}<br>share in %=%{y}<extra></extra>\",\"legendgroup\":\"-H1 O1 -N1\",\"line\":{\"color\":\"#FFA15A\",\"dash\":\"solid\"},\"marker\":{\"symbol\":\"cross\"},\"mode\":\"lines+markers\",\"name\":\"-H1 O1 -N1\",\"orientation\":\"v\",\"showlegend\":true,\"type\":\"scatter\",\"x\":[0,1,2,3,4,5,6,7,8,9,10,11],\"xaxis\":\"x\",\"y\":[1.9047619047619049,2.051282051282051,3.1872023446086217,1.664895501239816,1.8284920726767735,2.209236031927024,1.6100405679513183,1.1209942731814304,1.9374391167875311,1.4655172413793103,1.0685556489374475,2.1687830093268907],\"yaxis\":\"y\"},{\"hovertemplate\":\"transformation_unit=-H4 O2<br>measurement=%{x}<br>share in %=%{y}<extra></extra>\",\"legendgroup\":\"-H4 O2\",\"line\":{\"color\":\"#19d3f3\",\"dash\":\"solid\"},\"marker\":{\"symbol\":\"circle\"},\"mode\":\"lines+markers\",\"name\":\"-H4 O2\",\"orientation\":\"v\",\"showlegend\":true,\"type\":\"scatter\",\"x\":[0,1,2,3,4,5,6,7,8,9,10,11],\"xaxis\":\"x\",\"y\":[5.440476190476191,4.587664587664587,7.497862986933692,4.593222340299918,6.168267561624812,6.812998859749145,4.386409736308316,4.4352382112830515,5.433488472778439,5.269396551724138,3.8059791091367514,4.528598718957187],\"yaxis\":\"y\"},{\"hovertemplate\":\"transformation_unit=H2 O1<br>measurement=%{x}<br>share in %=%{y}<extra></extra>\",\"legendgroup\":\"H2 O1\",\"line\":{\"color\":\"#FF6692\",\"dash\":\"solid\"},\"marker\":{\"symbol\":\"diamond\"},\"mode\":\"lines+markers\",\"name\":\"H2 O1\",\"orientation\":\"v\",\"showlegend\":true,\"type\":\"scatter\",\"x\":[0,1,2,3,4,5,6,7,8,9,10,11],\"xaxis\":\"x\",\"y\":[6.761904761904762,5.641025641025641,6.02027109537184,6.399811075687803,5.659067237588243,8.195553021664766,5.730223123732252,5.99488241744852,6.559151423314212,7.155172413793104,6.555408812582543,7.000786605236543],\"yaxis\":\"y\"},{\"hovertemplate\":\"transformation_unit=H1 -O1 N1<br>measurement=%{x}<br>share in %=%{y}<extra></extra>\",\"legendgroup\":\"H1 -O1 N1\",\"line\":{\"color\":\"#B6E880\",\"dash\":\"solid\"},\"marker\":{\"symbol\":\"square\"},\"mode\":\"lines+markers\",\"name\":\"H1 -O1 N1\",\"orientation\":\"v\",\"showlegend\":true,\"type\":\"scatter\",\"x\":[0,1,2,3,4,5,6,7,8,9,10,11],\"xaxis\":\"x\",\"y\":[1.2142857142857142,1.995841995841996,0.9280742459396751,2.078167434171685,1.6086101145700729,1.582098061573546,2.1171399594320484,2.6197148775435606,1.6668470613702782,2.3168103448275863,3.8419978388762157,2.719406674907293],\"yaxis\":\"y\"},{\"hovertemplate\":\"transformation_unit=-O1 -S1<br>measurement=%{x}<br>share in %=%{y}<extra></extra>\",\"legendgroup\":\"-O1 -S1\",\"line\":{\"color\":\"#FF97FF\",\"dash\":\"solid\"},\"marker\":{\"symbol\":\"x\"},\"mode\":\"lines+markers\",\"name\":\"-O1 -S1\",\"orientation\":\"v\",\"showlegend\":true,\"type\":\"scatter\",\"x\":[0,1,2,3,4,5,6,7,8,9,10,11],\"xaxis\":\"x\",\"y\":[0.4642857142857143,0.7207207207207207,0.989131762119917,0.5667729365922777,0.2546001620182849,0.34207525655644244,0.6085192697768762,0.43864993298403804,0.5303604286178157,0.4956896551724138,0.7443870812822667,1.0450612428362738],\"yaxis\":\"y\"},{\"hovertemplate\":\"transformation_unit=-O3 -S1<br>measurement=%{x}<br>share in %=%{y}<extra></extra>\",\"legendgroup\":\"-O3 -S1\",\"line\":{\"color\":\"#FECB52\",\"dash\":\"solid\"},\"marker\":{\"symbol\":\"cross\"},\"mode\":\"lines+markers\",\"name\":\"-O3 -S1\",\"orientation\":\"v\",\"showlegend\":true,\"type\":\"scatter\",\"x\":[0,1,2,3,4,5,6,7,8,9,10,11],\"xaxis\":\"x\",\"y\":[0.34523809523809523,0.8731808731808732,0.43961411649774085,0.5431573975675995,0.31246383520425874,0.09977194982896237,0.7606490872210954,0.4264652126233703,0.29223941985063323,0.290948275862069,0.8284307840076839,0.730419148218901],\"yaxis\":\"y\"}],                        {\"legend\":{\"title\":{\"text\":\"transformation_unit\"},\"tracegroupgap\":0},\"template\":{\"data\":{\"bar\":[{\"error_x\":{\"color\":\"#2a3f5f\"},\"error_y\":{\"color\":\"#2a3f5f\"},\"marker\":{\"line\":{\"color\":\"#E5ECF6\",\"width\":0.5},\"pattern\":{\"fillmode\":\"overlay\",\"size\":10,\"solidity\":0.2}},\"type\":\"bar\"}],\"barpolar\":[{\"marker\":{\"line\":{\"color\":\"#E5ECF6\",\"width\":0.5},\"pattern\":{\"fillmode\":\"overlay\",\"size\":10,\"solidity\":0.2}},\"type\":\"barpolar\"}],\"carpet\":[{\"aaxis\":{\"endlinecolor\":\"#2a3f5f\",\"gridcolor\":\"white\",\"linecolor\":\"white\",\"minorgridcolor\":\"white\",\"startlinecolor\":\"#2a3f5f\"},\"baxis\":{\"endlinecolor\":\"#2a3f5f\",\"gridcolor\":\"white\",\"linecolor\":\"white\",\"minorgridcolor\":\"white\",\"startlinecolor\":\"#2a3f5f\"},\"type\":\"carpet\"}],\"choropleth\":[{\"colorbar\":{\"outlinewidth\":0,\"ticks\":\"\"},\"type\":\"choropleth\"}],\"contour\":[{\"colorbar\":{\"outlinewidth\":0,\"ticks\":\"\"},\"colorscale\":[[0.0,\"#0d0887\"],[0.1111111111111111,\"#46039f\"],[0.2222222222222222,\"#7201a8\"],[0.3333333333333333,\"#9c179e\"],[0.4444444444444444,\"#bd3786\"],[0.5555555555555556,\"#d8576b\"],[0.6666666666666666,\"#ed7953\"],[0.7777777777777778,\"#fb9f3a\"],[0.8888888888888888,\"#fdca26\"],[1.0,\"#f0f921\"]],\"type\":\"contour\"}],\"contourcarpet\":[{\"colorbar\":{\"outlinewidth\":0,\"ticks\":\"\"},\"type\":\"contourcarpet\"}],\"heatmap\":[{\"colorbar\":{\"outlinewidth\":0,\"ticks\":\"\"},\"colorscale\":[[0.0,\"#0d0887\"],[0.1111111111111111,\"#46039f\"],[0.2222222222222222,\"#7201a8\"],[0.3333333333333333,\"#9c179e\"],[0.4444444444444444,\"#bd3786\"],[0.5555555555555556,\"#d8576b\"],[0.6666666666666666,\"#ed7953\"],[0.7777777777777778,\"#fb9f3a\"],[0.8888888888888888,\"#fdca26\"],[1.0,\"#f0f921\"]],\"type\":\"heatmap\"}],\"heatmapgl\":[{\"colorbar\":{\"outlinewidth\":0,\"ticks\":\"\"},\"colorscale\":[[0.0,\"#0d0887\"],[0.1111111111111111,\"#46039f\"],[0.2222222222222222,\"#7201a8\"],[0.3333333333333333,\"#9c179e\"],[0.4444444444444444,\"#bd3786\"],[0.5555555555555556,\"#d8576b\"],[0.6666666666666666,\"#ed7953\"],[0.7777777777777778,\"#fb9f3a\"],[0.8888888888888888,\"#fdca26\"],[1.0,\"#f0f921\"]],\"type\":\"heatmapgl\"}],\"histogram\":[{\"marker\":{\"pattern\":{\"fillmode\":\"overlay\",\"size\":10,\"solidity\":0.2}},\"type\":\"histogram\"}],\"histogram2d\":[{\"colorbar\":{\"outlinewidth\":0,\"ticks\":\"\"},\"colorscale\":[[0.0,\"#0d0887\"],[0.1111111111111111,\"#46039f\"],[0.2222222222222222,\"#7201a8\"],[0.3333333333333333,\"#9c179e\"],[0.4444444444444444,\"#bd3786\"],[0.5555555555555556,\"#d8576b\"],[0.6666666666666666,\"#ed7953\"],[0.7777777777777778,\"#fb9f3a\"],[0.8888888888888888,\"#fdca26\"],[1.0,\"#f0f921\"]],\"type\":\"histogram2d\"}],\"histogram2dcontour\":[{\"colorbar\":{\"outlinewidth\":0,\"ticks\":\"\"},\"colorscale\":[[0.0,\"#0d0887\"],[0.1111111111111111,\"#46039f\"],[0.2222222222222222,\"#7201a8\"],[0.3333333333333333,\"#9c179e\"],[0.4444444444444444,\"#bd3786\"],[0.5555555555555556,\"#d8576b\"],[0.6666666666666666,\"#ed7953\"],[0.7777777777777778,\"#fb9f3a\"],[0.8888888888888888,\"#fdca26\"],[1.0,\"#f0f921\"]],\"type\":\"histogram2dcontour\"}],\"mesh3d\":[{\"colorbar\":{\"outlinewidth\":0,\"ticks\":\"\"},\"type\":\"mesh3d\"}],\"parcoords\":[{\"line\":{\"colorbar\":{\"outlinewidth\":0,\"ticks\":\"\"}},\"type\":\"parcoords\"}],\"pie\":[{\"automargin\":true,\"type\":\"pie\"}],\"scatter\":[{\"marker\":{\"colorbar\":{\"outlinewidth\":0,\"ticks\":\"\"}},\"type\":\"scatter\"}],\"scatter3d\":[{\"line\":{\"colorbar\":{\"outlinewidth\":0,\"ticks\":\"\"}},\"marker\":{\"colorbar\":{\"outlinewidth\":0,\"ticks\":\"\"}},\"type\":\"scatter3d\"}],\"scattercarpet\":[{\"marker\":{\"colorbar\":{\"outlinewidth\":0,\"ticks\":\"\"}},\"type\":\"scattercarpet\"}],\"scattergeo\":[{\"marker\":{\"colorbar\":{\"outlinewidth\":0,\"ticks\":\"\"}},\"type\":\"scattergeo\"}],\"scattergl\":[{\"marker\":{\"colorbar\":{\"outlinewidth\":0,\"ticks\":\"\"}},\"type\":\"scattergl\"}],\"scattermapbox\":[{\"marker\":{\"colorbar\":{\"outlinewidth\":0,\"ticks\":\"\"}},\"type\":\"scattermapbox\"}],\"scatterpolar\":[{\"marker\":{\"colorbar\":{\"outlinewidth\":0,\"ticks\":\"\"}},\"type\":\"scatterpolar\"}],\"scatterpolargl\":[{\"marker\":{\"colorbar\":{\"outlinewidth\":0,\"ticks\":\"\"}},\"type\":\"scatterpolargl\"}],\"scatterternary\":[{\"marker\":{\"colorbar\":{\"outlinewidth\":0,\"ticks\":\"\"}},\"type\":\"scatterternary\"}],\"surface\":[{\"colorbar\":{\"outlinewidth\":0,\"ticks\":\"\"},\"colorscale\":[[0.0,\"#0d0887\"],[0.1111111111111111,\"#46039f\"],[0.2222222222222222,\"#7201a8\"],[0.3333333333333333,\"#9c179e\"],[0.4444444444444444,\"#bd3786\"],[0.5555555555555556,\"#d8576b\"],[0.6666666666666666,\"#ed7953\"],[0.7777777777777778,\"#fb9f3a\"],[0.8888888888888888,\"#fdca26\"],[1.0,\"#f0f921\"]],\"type\":\"surface\"}],\"table\":[{\"cells\":{\"fill\":{\"color\":\"#EBF0F8\"},\"line\":{\"color\":\"white\"}},\"header\":{\"fill\":{\"color\":\"#C8D4E3\"},\"line\":{\"color\":\"white\"}},\"type\":\"table\"}]},\"layout\":{\"annotationdefaults\":{\"arrowcolor\":\"#2a3f5f\",\"arrowhead\":0,\"arrowwidth\":1},\"autotypenumbers\":\"strict\",\"coloraxis\":{\"colorbar\":{\"outlinewidth\":0,\"ticks\":\"\"}},\"colorscale\":{\"diverging\":[[0,\"#8e0152\"],[0.1,\"#c51b7d\"],[0.2,\"#de77ae\"],[0.3,\"#f1b6da\"],[0.4,\"#fde0ef\"],[0.5,\"#f7f7f7\"],[0.6,\"#e6f5d0\"],[0.7,\"#b8e186\"],[0.8,\"#7fbc41\"],[0.9,\"#4d9221\"],[1,\"#276419\"]],\"sequential\":[[0.0,\"#0d0887\"],[0.1111111111111111,\"#46039f\"],[0.2222222222222222,\"#7201a8\"],[0.3333333333333333,\"#9c179e\"],[0.4444444444444444,\"#bd3786\"],[0.5555555555555556,\"#d8576b\"],[0.6666666666666666,\"#ed7953\"],[0.7777777777777778,\"#fb9f3a\"],[0.8888888888888888,\"#fdca26\"],[1.0,\"#f0f921\"]],\"sequentialminus\":[[0.0,\"#0d0887\"],[0.1111111111111111,\"#46039f\"],[0.2222222222222222,\"#7201a8\"],[0.3333333333333333,\"#9c179e\"],[0.4444444444444444,\"#bd3786\"],[0.5555555555555556,\"#d8576b\"],[0.6666666666666666,\"#ed7953\"],[0.7777777777777778,\"#fb9f3a\"],[0.8888888888888888,\"#fdca26\"],[1.0,\"#f0f921\"]]},\"colorway\":[\"#636efa\",\"#EF553B\",\"#00cc96\",\"#ab63fa\",\"#FFA15A\",\"#19d3f3\",\"#FF6692\",\"#B6E880\",\"#FF97FF\",\"#FECB52\"],\"font\":{\"color\":\"#2a3f5f\"},\"geo\":{\"bgcolor\":\"white\",\"lakecolor\":\"white\",\"landcolor\":\"#E5ECF6\",\"showlakes\":true,\"showland\":true,\"subunitcolor\":\"white\"},\"hoverlabel\":{\"align\":\"left\"},\"hovermode\":\"closest\",\"mapbox\":{\"style\":\"light\"},\"paper_bgcolor\":\"white\",\"plot_bgcolor\":\"#E5ECF6\",\"polar\":{\"angularaxis\":{\"gridcolor\":\"white\",\"linecolor\":\"white\",\"ticks\":\"\"},\"bgcolor\":\"#E5ECF6\",\"radialaxis\":{\"gridcolor\":\"white\",\"linecolor\":\"white\",\"ticks\":\"\"}},\"scene\":{\"xaxis\":{\"backgroundcolor\":\"#E5ECF6\",\"gridcolor\":\"white\",\"gridwidth\":2,\"linecolor\":\"white\",\"showbackground\":true,\"ticks\":\"\",\"zerolinecolor\":\"white\"},\"yaxis\":{\"backgroundcolor\":\"#E5ECF6\",\"gridcolor\":\"white\",\"gridwidth\":2,\"linecolor\":\"white\",\"showbackground\":true,\"ticks\":\"\",\"zerolinecolor\":\"white\"},\"zaxis\":{\"backgroundcolor\":\"#E5ECF6\",\"gridcolor\":\"white\",\"gridwidth\":2,\"linecolor\":\"white\",\"showbackground\":true,\"ticks\":\"\",\"zerolinecolor\":\"white\"}},\"shapedefaults\":{\"line\":{\"color\":\"#2a3f5f\"}},\"ternary\":{\"aaxis\":{\"gridcolor\":\"white\",\"linecolor\":\"white\",\"ticks\":\"\"},\"baxis\":{\"gridcolor\":\"white\",\"linecolor\":\"white\",\"ticks\":\"\"},\"bgcolor\":\"#E5ECF6\",\"caxis\":{\"gridcolor\":\"white\",\"linecolor\":\"white\",\"ticks\":\"\"}},\"title\":{\"x\":0.05},\"xaxis\":{\"automargin\":true,\"gridcolor\":\"white\",\"linecolor\":\"white\",\"ticks\":\"\",\"title\":{\"standoff\":15},\"zerolinecolor\":\"white\",\"zerolinewidth\":2},\"yaxis\":{\"automargin\":true,\"gridcolor\":\"white\",\"linecolor\":\"white\",\"ticks\":\"\",\"title\":{\"standoff\":15},\"zerolinecolor\":\"white\",\"zerolinewidth\":2}}},\"title\":{\"text\":\"Transformations and their share per measurement - HTI\"},\"xaxis\":{\"anchor\":\"y\",\"domain\":[0.0,1.0],\"dtick\":1,\"tick0\":0,\"tickmode\":\"linear\",\"title\":{\"text\":\"measurement\"}},\"yaxis\":{\"anchor\":\"x\",\"domain\":[0.0,1.0],\"title\":{\"text\":\"share in %\"}}},                        {\"responsive\": true}                    ).then(function(){\n",
       "                            \n",
       "var gd = document.getElementById('df5e0f48-f3b8-4181-a196-1fbdcd9db77f');\n",
       "var x = new MutationObserver(function (mutations, observer) {{\n",
       "        var display = window.getComputedStyle(gd).display;\n",
       "        if (!display || display === 'none') {{\n",
       "            console.log([gd, 'removed!']);\n",
       "            Plotly.purge(gd);\n",
       "            observer.disconnect();\n",
       "        }}\n",
       "}});\n",
       "\n",
       "// Listen for the removal of the full notebook cells\n",
       "var notebookContainer = gd.closest('#notebook-container');\n",
       "if (notebookContainer) {{\n",
       "    x.observe(notebookContainer, {childList: true});\n",
       "}}\n",
       "\n",
       "// Listen for the clearing of the current output cell\n",
       "var outputEl = gd.closest('.output');\n",
       "if (outputEl) {{\n",
       "    x.observe(outputEl, {childList: true});\n",
       "}}\n",
       "\n",
       "                        })                };                });            </script>        </div>"
      ]
     },
     "metadata": {},
     "output_type": "display_data"
    },
    {
     "data": {
      "application/vnd.plotly.v1+json": {
       "config": {
        "plotlyServerURL": "https://plot.ly"
       },
       "data": [
        {
         "hovertemplate": "transformation_unit=-C1 -O2<br>measurement=%{x}<br>share in %=%{y}<extra></extra>",
         "legendgroup": "-C1 -O2",
         "line": {
          "color": "#636efa",
          "dash": "solid"
         },
         "marker": {
          "symbol": "circle"
         },
         "mode": "lines+markers",
         "name": "-C1 -O2",
         "orientation": "v",
         "showlegend": true,
         "type": "scatter",
         "x": [
          0,
          1,
          2,
          3,
          4,
          5,
          6,
          7,
          8,
          9,
          10,
          11
         ],
         "xaxis": "x",
         "y": [
          5.880864345063195,
          6.036713405134457,
          5.770082086437398,
          5.884194445140124,
          5.859621552690221,
          5.702350643893517,
          6.050359353164304,
          5.882799837925445,
          5.724864710908573,
          5.742519598100916,
          5.896055179090029,
          5.873471536558958
         ],
         "yaxis": "y"
        },
        {
         "hovertemplate": "transformation_unit=-C4 -H4 -O1<br>measurement=%{x}<br>share in %=%{y}<extra></extra>",
         "legendgroup": "-C4 -H4 -O1",
         "line": {
          "color": "#EF553B",
          "dash": "solid"
         },
         "marker": {
          "symbol": "diamond"
         },
         "mode": "lines+markers",
         "name": "-C4 -H4 -O1",
         "orientation": "v",
         "showlegend": true,
         "type": "scatter",
         "x": [
          0,
          1,
          2,
          3,
          4,
          5,
          6,
          7,
          8,
          9,
          10,
          11
         ],
         "xaxis": "x",
         "y": [
          5.475966202252246,
          5.535460272302378,
          5.467791508037894,
          5.735179944401312,
          5.577525021575877,
          5.487307511679067,
          5.814533839089639,
          5.573845218800648,
          5.633485236874584,
          5.530528872695153,
          5.606647305582446,
          5.631102678970528
         ],
         "yaxis": "y"
        },
        {
         "hovertemplate": "transformation_unit=-H2<br>measurement=%{x}<br>share in %=%{y}<extra></extra>",
         "legendgroup": "-H2",
         "line": {
          "color": "#00cc96",
          "dash": "solid"
         },
         "marker": {
          "symbol": "square"
         },
         "mode": "lines+markers",
         "name": "-H2",
         "orientation": "v",
         "showlegend": true,
         "type": "scatter",
         "x": [
          0,
          1,
          2,
          3,
          4,
          5,
          6,
          7,
          8,
          9,
          10,
          11
         ],
         "xaxis": "x",
         "y": [
          6.842497434239199,
          6.846846846846846,
          6.861616685428077,
          6.704400310551229,
          6.957092988806307,
          6.789925105667746,
          6.784038730285487,
          6.903363047001621,
          6.76564131776322,
          6.831180302528431,
          6.7330187157147465,
          6.676070048573103
         ],
         "yaxis": "y"
        },
        {
         "hovertemplate": "transformation_unit=-H2 -O1<br>measurement=%{x}<br>share in %=%{y}<extra></extra>",
         "legendgroup": "-H2 -O1",
         "line": {
          "color": "#ab63fa",
          "dash": "solid"
         },
         "marker": {
          "symbol": "x"
         },
         "mode": "lines+markers",
         "name": "-H2 -O1",
         "orientation": "v",
         "showlegend": true,
         "type": "scatter",
         "x": [
          0,
          1,
          2,
          3,
          4,
          5,
          6,
          7,
          8,
          9,
          10,
          11
         ],
         "xaxis": "x",
         "y": [
          6.069254453176623,
          6.1667682720314305,
          6.078696735514716,
          5.984372260762854,
          6.161039764017879,
          5.97053661912648,
          6.150179676582153,
          6.114515802269044,
          5.898129687648343,
          5.96113503367561,
          6.0150451758631815,
          5.962869885669445
         ],
         "yaxis": "y"
        },
        {
         "hovertemplate": "transformation_unit=-C2 -H4 -O1<br>measurement=%{x}<br>share in %=%{y}<extra></extra>",
         "legendgroup": "-C2 -H4 -O1",
         "line": {
          "color": "#FFA15A",
          "dash": "solid"
         },
         "marker": {
          "symbol": "cross"
         },
         "mode": "lines+markers",
         "name": "-C2 -H4 -O1",
         "orientation": "v",
         "showlegend": true,
         "type": "scatter",
         "x": [
          0,
          1,
          2,
          3,
          4,
          5,
          6,
          7,
          8,
          9,
          10,
          11
         ],
         "xaxis": "x",
         "y": [
          6.3912047125644955,
          6.509517035832825,
          6.368339172558593,
          6.458964662275539,
          6.568083160511638,
          6.319054798922312,
          6.670493112397684,
          6.463989059967585,
          6.444033039020222,
          6.433697692392625,
          6.471845756695709,
          6.444627655875955
         ],
         "yaxis": "y"
        },
        {
         "hovertemplate": "transformation_unit=-C1 -O1<br>measurement=%{x}<br>share in %=%{y}<extra></extra>",
         "legendgroup": "-C1 -O1",
         "line": {
          "color": "#19d3f3",
          "dash": "solid"
         },
         "marker": {
          "symbol": "circle"
         },
         "mode": "lines+markers",
         "name": "-C1 -O1",
         "orientation": "v",
         "showlegend": true,
         "type": "scatter",
         "x": [
          0,
          1,
          2,
          3,
          4,
          5,
          6,
          7,
          8,
          9,
          10,
          11
         ],
         "xaxis": "x",
         "y": [
          6.895921494748977,
          6.9728374991532895,
          6.775609324209807,
          6.934809286483508,
          6.807671995156698,
          6.736782262649232,
          7.04731483330006,
          6.886902350081037,
          6.791749738915788,
          6.752787898862758,
          6.907470151661826,
          6.8995659213493195
         ],
         "yaxis": "y"
        },
        {
         "hovertemplate": "transformation_unit=-C1 -H2<br>measurement=%{x}<br>share in %=%{y}<extra></extra>",
         "legendgroup": "-C1 -H2",
         "line": {
          "color": "#FF6692",
          "dash": "solid"
         },
         "marker": {
          "symbol": "diamond"
         },
         "mode": "lines+markers",
         "name": "-C1 -H2",
         "orientation": "v",
         "showlegend": true,
         "type": "scatter",
         "x": [
          0,
          1,
          2,
          3,
          4,
          5,
          6,
          7,
          8,
          9,
          10,
          11
         ],
         "xaxis": "x",
         "y": [
          7.198189205527984,
          7.20043351622299,
          7.155053564878641,
          7.180244934759197,
          7.232748959849548,
          7.145858565884766,
          7.164603713316032,
          7.216116288492707,
          7.252207348333808,
          7.162415810974937,
          7.14040819619232,
          7.088295769471458
         ],
         "yaxis": "y"
        },
        {
         "hovertemplate": "transformation_unit=-C2 -H2<br>measurement=%{x}<br>share in %=%{y}<extra></extra>",
         "legendgroup": "-C2 -H2",
         "line": {
          "color": "#B6E880",
          "dash": "solid"
         },
         "marker": {
          "symbol": "square"
         },
         "mode": "lines+markers",
         "name": "-C2 -H2",
         "orientation": "v",
         "showlegend": true,
         "type": "scatter",
         "x": [
          0,
          1,
          2,
          3,
          4,
          5,
          6,
          7,
          8,
          9,
          10,
          11
         ],
         "xaxis": "x",
         "y": [
          6.4783702849751865,
          6.455327507959087,
          6.463200232725801,
          6.5654035913746895,
          6.530727912099237,
          6.473539807697061,
          6.534487921740867,
          6.482982171799027,
          6.538972752302288,
          6.464613006514298,
          6.451677960632463,
          6.4545608057771195
         ],
         "yaxis": "y"
        },
        {
         "hovertemplate": "transformation_unit=-C1<br>measurement=%{x}<br>share in %=%{y}<extra></extra>",
         "legendgroup": "-C1",
         "line": {
          "color": "#FF97FF",
          "dash": "solid"
         },
         "marker": {
          "symbol": "x"
         },
         "mode": "lines+markers",
         "name": "-C1",
         "orientation": "v",
         "showlegend": true,
         "type": "scatter",
         "x": [
          0,
          1,
          2,
          3,
          4,
          5,
          6,
          7,
          8,
          9,
          10,
          11
         ],
         "xaxis": "x",
         "y": [
          6.935286591966708,
          6.896972160130055,
          6.860351871292513,
          6.993663753161862,
          6.8424510195406585,
          6.883851991002793,
          6.9125573966859655,
          6.913492706645057,
          6.993496629640178,
          6.8941150491332674,
          6.923604388512423,
          6.905525811290018
         ],
         "yaxis": "y"
        },
        {
         "hovertemplate": "transformation_unit=H2 O1<br>measurement=%{x}<br>share in %=%{y}<extra></extra>",
         "legendgroup": "H2 O1",
         "line": {
          "color": "#FECB52",
          "dash": "solid"
         },
         "marker": {
          "symbol": "cross"
         },
         "mode": "lines+markers",
         "name": "H2 O1",
         "orientation": "v",
         "showlegend": true,
         "type": "scatter",
         "x": [
          0,
          1,
          2,
          3,
          4,
          5,
          6,
          7,
          8,
          9,
          10,
          11
         ],
         "xaxis": "x",
         "y": [
          6.122678513686401,
          6.020456546772336,
          6.117905973717162,
          6.178466778531894,
          6.036092898638466,
          6.258496675482611,
          6.025404272309842,
          6.084126823338735,
          6.185322320326592,
          6.1731257590813735,
          6.120926105195224,
          6.170472718603796
         ],
         "yaxis": "y"
        },
        {
         "hovertemplate": "transformation_unit=-H2 O1<br>measurement=%{x}<br>share in %=%{y}<extra></extra>",
         "legendgroup": "-H2 O1",
         "line": {
          "color": "#636efa",
          "dash": "solid"
         },
         "marker": {
          "symbol": "circle"
         },
         "mode": "lines+markers",
         "name": "-H2 O1",
         "orientation": "v",
         "showlegend": true,
         "type": "scatter",
         "x": [
          0,
          1,
          2,
          3,
          4,
          5,
          6,
          7,
          8,
          9,
          10,
          11
         ],
         "xaxis": "x",
         "y": [
          6.562724064727467,
          6.517645465013885,
          6.622566813806712,
          6.4226502041122995,
          6.568083160511638,
          6.6292606965420084,
          6.392243960870434,
          6.542493922204214,
          6.568641412702933,
          6.547421883625924,
          6.402266860277509,
          6.396948536350362
         ],
         "yaxis": "y"
        },
        {
         "hovertemplate": "transformation_unit=O1<br>measurement=%{x}<br>share in %=%{y}<extra></extra>",
         "legendgroup": "O1",
         "line": {
          "color": "#EF553B",
          "dash": "solid"
         },
         "marker": {
          "symbol": "diamond"
         },
         "mode": "lines+markers",
         "name": "O1",
         "orientation": "v",
         "showlegend": true,
         "type": "scatter",
         "x": [
          0,
          1,
          2,
          3,
          4,
          5,
          6,
          7,
          8,
          9,
          10,
          11
         ],
         "xaxis": "x",
         "y": [
          6.872021257152497,
          6.803495224547857,
          6.846438915801323,
          6.777029226877708,
          6.801231435085595,
          6.902390192055763,
          6.619335196646037,
          6.797001620745544,
          6.860581031045286,
          6.8256597107209895,
          6.753186511777994,
          6.692956403405084
         ],
         "yaxis": "y"
        },
        {
         "hovertemplate": "transformation_unit=-C1 -H2 O1<br>measurement=%{x}<br>share in %=%{y}<extra></extra>",
         "legendgroup": "-C1 -H2 O1",
         "line": {
          "color": "#00cc96",
          "dash": "solid"
         },
         "marker": {
          "symbol": "square"
         },
         "mode": "lines+markers",
         "name": "-C1 -H2 O1",
         "orientation": "v",
         "showlegend": true,
         "type": "scatter",
         "x": [
          0,
          1,
          2,
          3,
          4,
          5,
          6,
          7,
          8,
          9,
          10,
          11
         ],
         "xaxis": "x",
         "y": [
          6.327939377750284,
          6.294113662534715,
          6.313952164729393,
          6.2773923714593405,
          6.261512501127098,
          6.387028202783202,
          6.175134757436615,
          6.284187601296597,
          6.322984904585588,
          6.307828199182952,
          6.185463052597613,
          6.20921200321834
         ],
         "yaxis": "y"
        },
        {
         "hovertemplate": "transformation_unit=H1 -O1 N1<br>measurement=%{x}<br>share in %=%{y}<extra></extra>",
         "legendgroup": "H1 -O1 N1",
         "line": {
          "color": "#ab63fa",
          "dash": "solid"
         },
         "marker": {
          "symbol": "x"
         },
         "mode": "lines+markers",
         "name": "H1 -O1 N1",
         "orientation": "v",
         "showlegend": true,
         "type": "scatter",
         "x": [
          0,
          1,
          2,
          3,
          4,
          5,
          6,
          7,
          8,
          9,
          10,
          11
         ],
         "xaxis": "x",
         "y": [
          1.795329612394382,
          1.9183092867303395,
          1.9098693446997963,
          1.76187733226477,
          1.88966032486185,
          1.8946041476135156,
          1.7219005789578758,
          1.9081746353322528,
          1.8382701984240006,
          2.1210113724191233,
          2.1317360438851245,
          2.1823130332859852
         ],
         "yaxis": "y"
        },
        {
         "hovertemplate": "transformation_unit=-H1 O1 -N1<br>measurement=%{x}<br>share in %=%{y}<extra></extra>",
         "legendgroup": "-H1 O1 -N1",
         "line": {
          "color": "#FFA15A",
          "dash": "solid"
         },
         "marker": {
          "symbol": "cross"
         },
         "mode": "lines+markers",
         "name": "-H1 O1 -N1",
         "orientation": "v",
         "showlegend": true,
         "type": "scatter",
         "x": [
          0,
          1,
          2,
          3,
          4,
          5,
          6,
          7,
          8,
          9,
          10,
          11
         ],
         "xaxis": "x",
         "y": [
          1.8206357463200664,
          1.7462575357312198,
          1.820067541074839,
          1.8820907110120462,
          1.7814589156673066,
          1.8105643028400522,
          1.8990816530245556,
          1.753697325769854,
          1.8192822557675874,
          1.7632770232968973,
          1.984511132623427,
          2.1286740238196935
         ],
         "yaxis": "y"
        },
        {
         "hovertemplate": "transformation_unit=O2<br>measurement=%{x}<br>share in %=%{y}<extra></extra>",
         "legendgroup": "O2",
         "line": {
          "color": "#19d3f3",
          "dash": "solid"
         },
         "marker": {
          "symbol": "circle"
         },
         "mode": "lines+markers",
         "name": "O2",
         "orientation": "v",
         "showlegend": true,
         "type": "scatter",
         "x": [
          0,
          1,
          2,
          3,
          4,
          5,
          6,
          7,
          8,
          9,
          10,
          11
         ],
         "xaxis": "x",
         "y": [
          5.529390262762024,
          5.479916006231796,
          5.610715505356488,
          5.492248741516191,
          5.425527803897827,
          5.703586523963715,
          5.351617089239369,
          5.458620340356564,
          5.527864805848286,
          5.551507121563431,
          5.429170700225879,
          5.411580066154778
         ],
         "yaxis": "y"
        },
        {
         "hovertemplate": "transformation_unit=-O3 -S1<br>measurement=%{x}<br>share in %=%{y}<extra></extra>",
         "legendgroup": "-O3 -S1",
         "line": {
          "color": "#FF6692",
          "dash": "solid"
         },
         "marker": {
          "symbol": "diamond"
         },
         "mode": "lines+markers",
         "name": "-O3 -S1",
         "orientation": "v",
         "showlegend": true,
         "type": "scatter",
         "x": [
          0,
          1,
          2,
          3,
          4,
          5,
          6,
          7,
          8,
          9,
          10,
          11
         ],
         "xaxis": "x",
         "y": [
          0.4611339959791365,
          0.41725936462778573,
          0.4591275312092888,
          0.4758446242079692,
          0.4302294127497327,
          0.4486244654818696,
          0.49036733879017763,
          0.44317260940032416,
          0.4485901452577613,
          0.48691619741636305,
          0.5142787996127783,
          0.5423499846036177
         ],
         "yaxis": "y"
        },
        {
         "hovertemplate": "transformation_unit=-O1 -S1<br>measurement=%{x}<br>share in %=%{y}<extra></extra>",
         "legendgroup": "-O1 -S1",
         "line": {
          "color": "#B6E880",
          "dash": "solid"
         },
         "marker": {
          "symbol": "square"
         },
         "mode": "lines+markers",
         "name": "-O1 -S1",
         "orientation": "v",
         "showlegend": true,
         "type": "scatter",
         "x": [
          0,
          1,
          2,
          3,
          4,
          5,
          6,
          7,
          8,
          9,
          10,
          11
         ],
         "xaxis": "x",
         "y": [
          0.5764174949739206,
          0.5215742057847321,
          0.6007867143923201,
          0.5860402213929725,
          0.5307021498589517,
          0.5771559927824603,
          0.5976741864643641,
          0.5685271474878444,
          0.579132251020602,
          0.6094733355415701,
          0.6403275250080671,
          0.6575745234571334
         ],
         "yaxis": "y"
        },
        {
         "hovertemplate": "transformation_unit=-S1<br>measurement=%{x}<br>share in %=%{y}<extra></extra>",
         "legendgroup": "-S1",
         "line": {
          "color": "#FF97FF",
          "dash": "solid"
         },
         "marker": {
          "symbol": "x"
         },
         "mode": "lines+markers",
         "name": "-S1",
         "orientation": "v",
         "showlegend": true,
         "type": "scatter",
         "x": [
          0,
          1,
          2,
          3,
          4,
          5,
          6,
          7,
          8,
          9,
          10,
          11
         ],
         "xaxis": "x",
         "y": [
          0.6537417930801783,
          0.5960848066111224,
          0.6804700049327751,
          0.6686869192817251,
          0.6144294307833009,
          0.6438935165731517,
          0.6800259532840887,
          0.6407009724473257,
          0.658644260894332,
          0.6944904493761731,
          0.7119232010325912,
          0.7251199427850565
         ],
         "yaxis": "y"
        },
        {
         "hovertemplate": "transformation_unit=-H4 O2<br>measurement=%{x}<br>share in %=%{y}<extra></extra>",
         "legendgroup": "-H4 O2",
         "line": {
          "color": "#FECB52",
          "dash": "solid"
         },
         "marker": {
          "symbol": "cross"
         },
         "mode": "lines+markers",
         "name": "-H4 O2",
         "orientation": "v",
         "showlegend": true,
         "type": "scatter",
         "x": [
          0,
          1,
          2,
          3,
          4,
          5,
          6,
          7,
          8,
          9,
          10,
          11
         ],
         "xaxis": "x",
         "y": [
          5.1104331566590275,
          5.064011379800854,
          5.217358309196463,
          5.036439680432768,
          5.12410959257017,
          5.2351879773586765,
          4.918646436414454,
          5.081290518638574,
          5.148105952720023,
          5.146295682897207,
          4.980437237818651,
          4.9467086507802485
         ],
         "yaxis": "y"
        }
       ],
       "layout": {
        "legend": {
         "title": {
          "text": "transformation_unit"
         },
         "tracegroupgap": 0
        },
        "template": {
         "data": {
          "bar": [
           {
            "error_x": {
             "color": "#2a3f5f"
            },
            "error_y": {
             "color": "#2a3f5f"
            },
            "marker": {
             "line": {
              "color": "#E5ECF6",
              "width": 0.5
             },
             "pattern": {
              "fillmode": "overlay",
              "size": 10,
              "solidity": 0.2
             }
            },
            "type": "bar"
           }
          ],
          "barpolar": [
           {
            "marker": {
             "line": {
              "color": "#E5ECF6",
              "width": 0.5
             },
             "pattern": {
              "fillmode": "overlay",
              "size": 10,
              "solidity": 0.2
             }
            },
            "type": "barpolar"
           }
          ],
          "carpet": [
           {
            "aaxis": {
             "endlinecolor": "#2a3f5f",
             "gridcolor": "white",
             "linecolor": "white",
             "minorgridcolor": "white",
             "startlinecolor": "#2a3f5f"
            },
            "baxis": {
             "endlinecolor": "#2a3f5f",
             "gridcolor": "white",
             "linecolor": "white",
             "minorgridcolor": "white",
             "startlinecolor": "#2a3f5f"
            },
            "type": "carpet"
           }
          ],
          "choropleth": [
           {
            "colorbar": {
             "outlinewidth": 0,
             "ticks": ""
            },
            "type": "choropleth"
           }
          ],
          "contour": [
           {
            "colorbar": {
             "outlinewidth": 0,
             "ticks": ""
            },
            "colorscale": [
             [
              0,
              "#0d0887"
             ],
             [
              0.1111111111111111,
              "#46039f"
             ],
             [
              0.2222222222222222,
              "#7201a8"
             ],
             [
              0.3333333333333333,
              "#9c179e"
             ],
             [
              0.4444444444444444,
              "#bd3786"
             ],
             [
              0.5555555555555556,
              "#d8576b"
             ],
             [
              0.6666666666666666,
              "#ed7953"
             ],
             [
              0.7777777777777778,
              "#fb9f3a"
             ],
             [
              0.8888888888888888,
              "#fdca26"
             ],
             [
              1,
              "#f0f921"
             ]
            ],
            "type": "contour"
           }
          ],
          "contourcarpet": [
           {
            "colorbar": {
             "outlinewidth": 0,
             "ticks": ""
            },
            "type": "contourcarpet"
           }
          ],
          "heatmap": [
           {
            "colorbar": {
             "outlinewidth": 0,
             "ticks": ""
            },
            "colorscale": [
             [
              0,
              "#0d0887"
             ],
             [
              0.1111111111111111,
              "#46039f"
             ],
             [
              0.2222222222222222,
              "#7201a8"
             ],
             [
              0.3333333333333333,
              "#9c179e"
             ],
             [
              0.4444444444444444,
              "#bd3786"
             ],
             [
              0.5555555555555556,
              "#d8576b"
             ],
             [
              0.6666666666666666,
              "#ed7953"
             ],
             [
              0.7777777777777778,
              "#fb9f3a"
             ],
             [
              0.8888888888888888,
              "#fdca26"
             ],
             [
              1,
              "#f0f921"
             ]
            ],
            "type": "heatmap"
           }
          ],
          "heatmapgl": [
           {
            "colorbar": {
             "outlinewidth": 0,
             "ticks": ""
            },
            "colorscale": [
             [
              0,
              "#0d0887"
             ],
             [
              0.1111111111111111,
              "#46039f"
             ],
             [
              0.2222222222222222,
              "#7201a8"
             ],
             [
              0.3333333333333333,
              "#9c179e"
             ],
             [
              0.4444444444444444,
              "#bd3786"
             ],
             [
              0.5555555555555556,
              "#d8576b"
             ],
             [
              0.6666666666666666,
              "#ed7953"
             ],
             [
              0.7777777777777778,
              "#fb9f3a"
             ],
             [
              0.8888888888888888,
              "#fdca26"
             ],
             [
              1,
              "#f0f921"
             ]
            ],
            "type": "heatmapgl"
           }
          ],
          "histogram": [
           {
            "marker": {
             "pattern": {
              "fillmode": "overlay",
              "size": 10,
              "solidity": 0.2
             }
            },
            "type": "histogram"
           }
          ],
          "histogram2d": [
           {
            "colorbar": {
             "outlinewidth": 0,
             "ticks": ""
            },
            "colorscale": [
             [
              0,
              "#0d0887"
             ],
             [
              0.1111111111111111,
              "#46039f"
             ],
             [
              0.2222222222222222,
              "#7201a8"
             ],
             [
              0.3333333333333333,
              "#9c179e"
             ],
             [
              0.4444444444444444,
              "#bd3786"
             ],
             [
              0.5555555555555556,
              "#d8576b"
             ],
             [
              0.6666666666666666,
              "#ed7953"
             ],
             [
              0.7777777777777778,
              "#fb9f3a"
             ],
             [
              0.8888888888888888,
              "#fdca26"
             ],
             [
              1,
              "#f0f921"
             ]
            ],
            "type": "histogram2d"
           }
          ],
          "histogram2dcontour": [
           {
            "colorbar": {
             "outlinewidth": 0,
             "ticks": ""
            },
            "colorscale": [
             [
              0,
              "#0d0887"
             ],
             [
              0.1111111111111111,
              "#46039f"
             ],
             [
              0.2222222222222222,
              "#7201a8"
             ],
             [
              0.3333333333333333,
              "#9c179e"
             ],
             [
              0.4444444444444444,
              "#bd3786"
             ],
             [
              0.5555555555555556,
              "#d8576b"
             ],
             [
              0.6666666666666666,
              "#ed7953"
             ],
             [
              0.7777777777777778,
              "#fb9f3a"
             ],
             [
              0.8888888888888888,
              "#fdca26"
             ],
             [
              1,
              "#f0f921"
             ]
            ],
            "type": "histogram2dcontour"
           }
          ],
          "mesh3d": [
           {
            "colorbar": {
             "outlinewidth": 0,
             "ticks": ""
            },
            "type": "mesh3d"
           }
          ],
          "parcoords": [
           {
            "line": {
             "colorbar": {
              "outlinewidth": 0,
              "ticks": ""
             }
            },
            "type": "parcoords"
           }
          ],
          "pie": [
           {
            "automargin": true,
            "type": "pie"
           }
          ],
          "scatter": [
           {
            "marker": {
             "colorbar": {
              "outlinewidth": 0,
              "ticks": ""
             }
            },
            "type": "scatter"
           }
          ],
          "scatter3d": [
           {
            "line": {
             "colorbar": {
              "outlinewidth": 0,
              "ticks": ""
             }
            },
            "marker": {
             "colorbar": {
              "outlinewidth": 0,
              "ticks": ""
             }
            },
            "type": "scatter3d"
           }
          ],
          "scattercarpet": [
           {
            "marker": {
             "colorbar": {
              "outlinewidth": 0,
              "ticks": ""
             }
            },
            "type": "scattercarpet"
           }
          ],
          "scattergeo": [
           {
            "marker": {
             "colorbar": {
              "outlinewidth": 0,
              "ticks": ""
             }
            },
            "type": "scattergeo"
           }
          ],
          "scattergl": [
           {
            "marker": {
             "colorbar": {
              "outlinewidth": 0,
              "ticks": ""
             }
            },
            "type": "scattergl"
           }
          ],
          "scattermapbox": [
           {
            "marker": {
             "colorbar": {
              "outlinewidth": 0,
              "ticks": ""
             }
            },
            "type": "scattermapbox"
           }
          ],
          "scatterpolar": [
           {
            "marker": {
             "colorbar": {
              "outlinewidth": 0,
              "ticks": ""
             }
            },
            "type": "scatterpolar"
           }
          ],
          "scatterpolargl": [
           {
            "marker": {
             "colorbar": {
              "outlinewidth": 0,
              "ticks": ""
             }
            },
            "type": "scatterpolargl"
           }
          ],
          "scatterternary": [
           {
            "marker": {
             "colorbar": {
              "outlinewidth": 0,
              "ticks": ""
             }
            },
            "type": "scatterternary"
           }
          ],
          "surface": [
           {
            "colorbar": {
             "outlinewidth": 0,
             "ticks": ""
            },
            "colorscale": [
             [
              0,
              "#0d0887"
             ],
             [
              0.1111111111111111,
              "#46039f"
             ],
             [
              0.2222222222222222,
              "#7201a8"
             ],
             [
              0.3333333333333333,
              "#9c179e"
             ],
             [
              0.4444444444444444,
              "#bd3786"
             ],
             [
              0.5555555555555556,
              "#d8576b"
             ],
             [
              0.6666666666666666,
              "#ed7953"
             ],
             [
              0.7777777777777778,
              "#fb9f3a"
             ],
             [
              0.8888888888888888,
              "#fdca26"
             ],
             [
              1,
              "#f0f921"
             ]
            ],
            "type": "surface"
           }
          ],
          "table": [
           {
            "cells": {
             "fill": {
              "color": "#EBF0F8"
             },
             "line": {
              "color": "white"
             }
            },
            "header": {
             "fill": {
              "color": "#C8D4E3"
             },
             "line": {
              "color": "white"
             }
            },
            "type": "table"
           }
          ]
         },
         "layout": {
          "annotationdefaults": {
           "arrowcolor": "#2a3f5f",
           "arrowhead": 0,
           "arrowwidth": 1
          },
          "autotypenumbers": "strict",
          "coloraxis": {
           "colorbar": {
            "outlinewidth": 0,
            "ticks": ""
           }
          },
          "colorscale": {
           "diverging": [
            [
             0,
             "#8e0152"
            ],
            [
             0.1,
             "#c51b7d"
            ],
            [
             0.2,
             "#de77ae"
            ],
            [
             0.3,
             "#f1b6da"
            ],
            [
             0.4,
             "#fde0ef"
            ],
            [
             0.5,
             "#f7f7f7"
            ],
            [
             0.6,
             "#e6f5d0"
            ],
            [
             0.7,
             "#b8e186"
            ],
            [
             0.8,
             "#7fbc41"
            ],
            [
             0.9,
             "#4d9221"
            ],
            [
             1,
             "#276419"
            ]
           ],
           "sequential": [
            [
             0,
             "#0d0887"
            ],
            [
             0.1111111111111111,
             "#46039f"
            ],
            [
             0.2222222222222222,
             "#7201a8"
            ],
            [
             0.3333333333333333,
             "#9c179e"
            ],
            [
             0.4444444444444444,
             "#bd3786"
            ],
            [
             0.5555555555555556,
             "#d8576b"
            ],
            [
             0.6666666666666666,
             "#ed7953"
            ],
            [
             0.7777777777777778,
             "#fb9f3a"
            ],
            [
             0.8888888888888888,
             "#fdca26"
            ],
            [
             1,
             "#f0f921"
            ]
           ],
           "sequentialminus": [
            [
             0,
             "#0d0887"
            ],
            [
             0.1111111111111111,
             "#46039f"
            ],
            [
             0.2222222222222222,
             "#7201a8"
            ],
            [
             0.3333333333333333,
             "#9c179e"
            ],
            [
             0.4444444444444444,
             "#bd3786"
            ],
            [
             0.5555555555555556,
             "#d8576b"
            ],
            [
             0.6666666666666666,
             "#ed7953"
            ],
            [
             0.7777777777777778,
             "#fb9f3a"
            ],
            [
             0.8888888888888888,
             "#fdca26"
            ],
            [
             1,
             "#f0f921"
            ]
           ]
          },
          "colorway": [
           "#636efa",
           "#EF553B",
           "#00cc96",
           "#ab63fa",
           "#FFA15A",
           "#19d3f3",
           "#FF6692",
           "#B6E880",
           "#FF97FF",
           "#FECB52"
          ],
          "font": {
           "color": "#2a3f5f"
          },
          "geo": {
           "bgcolor": "white",
           "lakecolor": "white",
           "landcolor": "#E5ECF6",
           "showlakes": true,
           "showland": true,
           "subunitcolor": "white"
          },
          "hoverlabel": {
           "align": "left"
          },
          "hovermode": "closest",
          "mapbox": {
           "style": "light"
          },
          "paper_bgcolor": "white",
          "plot_bgcolor": "#E5ECF6",
          "polar": {
           "angularaxis": {
            "gridcolor": "white",
            "linecolor": "white",
            "ticks": ""
           },
           "bgcolor": "#E5ECF6",
           "radialaxis": {
            "gridcolor": "white",
            "linecolor": "white",
            "ticks": ""
           }
          },
          "scene": {
           "xaxis": {
            "backgroundcolor": "#E5ECF6",
            "gridcolor": "white",
            "gridwidth": 2,
            "linecolor": "white",
            "showbackground": true,
            "ticks": "",
            "zerolinecolor": "white"
           },
           "yaxis": {
            "backgroundcolor": "#E5ECF6",
            "gridcolor": "white",
            "gridwidth": 2,
            "linecolor": "white",
            "showbackground": true,
            "ticks": "",
            "zerolinecolor": "white"
           },
           "zaxis": {
            "backgroundcolor": "#E5ECF6",
            "gridcolor": "white",
            "gridwidth": 2,
            "linecolor": "white",
            "showbackground": true,
            "ticks": "",
            "zerolinecolor": "white"
           }
          },
          "shapedefaults": {
           "line": {
            "color": "#2a3f5f"
           }
          },
          "ternary": {
           "aaxis": {
            "gridcolor": "white",
            "linecolor": "white",
            "ticks": ""
           },
           "baxis": {
            "gridcolor": "white",
            "linecolor": "white",
            "ticks": ""
           },
           "bgcolor": "#E5ECF6",
           "caxis": {
            "gridcolor": "white",
            "linecolor": "white",
            "ticks": ""
           }
          },
          "title": {
           "x": 0.05
          },
          "xaxis": {
           "automargin": true,
           "gridcolor": "white",
           "linecolor": "white",
           "ticks": "",
           "title": {
            "standoff": 15
           },
           "zerolinecolor": "white",
           "zerolinewidth": 2
          },
          "yaxis": {
           "automargin": true,
           "gridcolor": "white",
           "linecolor": "white",
           "ticks": "",
           "title": {
            "standoff": 15
           },
           "zerolinecolor": "white",
           "zerolinewidth": 2
          }
         }
        },
        "title": {
         "text": "Transformations and their share per measurement - PT"
        },
        "xaxis": {
         "anchor": "y",
         "domain": [
          0,
          1
         ],
         "dtick": 1,
         "tick0": 0,
         "tickmode": "linear",
         "title": {
          "text": "measurement"
         }
        },
        "yaxis": {
         "anchor": "x",
         "domain": [
          0,
          1
         ],
         "title": {
          "text": "share in %"
         }
        }
       }
      },
      "text/html": [
       "<div>                            <div id=\"21dbbb68-14fa-48fe-a4d1-3573e5a452eb\" class=\"plotly-graph-div\" style=\"height:525px; width:100%;\"></div>            <script type=\"text/javascript\">                require([\"plotly\"], function(Plotly) {                    window.PLOTLYENV=window.PLOTLYENV || {};                                    if (document.getElementById(\"21dbbb68-14fa-48fe-a4d1-3573e5a452eb\")) {                    Plotly.newPlot(                        \"21dbbb68-14fa-48fe-a4d1-3573e5a452eb\",                        [{\"hovertemplate\":\"transformation_unit=-C1 -O2<br>measurement=%{x}<br>share in %=%{y}<extra></extra>\",\"legendgroup\":\"-C1 -O2\",\"line\":{\"color\":\"#636efa\",\"dash\":\"solid\"},\"marker\":{\"symbol\":\"circle\"},\"mode\":\"lines+markers\",\"name\":\"-C1 -O2\",\"orientation\":\"v\",\"showlegend\":true,\"type\":\"scatter\",\"x\":[0,1,2,3,4,5,6,7,8,9,10,11],\"xaxis\":\"x\",\"y\":[5.880864345063195,6.036713405134457,5.770082086437398,5.884194445140124,5.859621552690221,5.702350643893517,6.050359353164304,5.882799837925445,5.724864710908573,5.742519598100916,5.896055179090029,5.873471536558958],\"yaxis\":\"y\"},{\"hovertemplate\":\"transformation_unit=-C4 -H4 -O1<br>measurement=%{x}<br>share in %=%{y}<extra></extra>\",\"legendgroup\":\"-C4 -H4 -O1\",\"line\":{\"color\":\"#EF553B\",\"dash\":\"solid\"},\"marker\":{\"symbol\":\"diamond\"},\"mode\":\"lines+markers\",\"name\":\"-C4 -H4 -O1\",\"orientation\":\"v\",\"showlegend\":true,\"type\":\"scatter\",\"x\":[0,1,2,3,4,5,6,7,8,9,10,11],\"xaxis\":\"x\",\"y\":[5.475966202252246,5.535460272302378,5.467791508037894,5.735179944401312,5.577525021575877,5.487307511679067,5.814533839089639,5.573845218800648,5.633485236874584,5.530528872695153,5.606647305582446,5.631102678970528],\"yaxis\":\"y\"},{\"hovertemplate\":\"transformation_unit=-H2<br>measurement=%{x}<br>share in %=%{y}<extra></extra>\",\"legendgroup\":\"-H2\",\"line\":{\"color\":\"#00cc96\",\"dash\":\"solid\"},\"marker\":{\"symbol\":\"square\"},\"mode\":\"lines+markers\",\"name\":\"-H2\",\"orientation\":\"v\",\"showlegend\":true,\"type\":\"scatter\",\"x\":[0,1,2,3,4,5,6,7,8,9,10,11],\"xaxis\":\"x\",\"y\":[6.842497434239199,6.846846846846846,6.861616685428077,6.704400310551229,6.957092988806307,6.789925105667746,6.784038730285487,6.903363047001621,6.76564131776322,6.831180302528431,6.7330187157147465,6.676070048573103],\"yaxis\":\"y\"},{\"hovertemplate\":\"transformation_unit=-H2 -O1<br>measurement=%{x}<br>share in %=%{y}<extra></extra>\",\"legendgroup\":\"-H2 -O1\",\"line\":{\"color\":\"#ab63fa\",\"dash\":\"solid\"},\"marker\":{\"symbol\":\"x\"},\"mode\":\"lines+markers\",\"name\":\"-H2 -O1\",\"orientation\":\"v\",\"showlegend\":true,\"type\":\"scatter\",\"x\":[0,1,2,3,4,5,6,7,8,9,10,11],\"xaxis\":\"x\",\"y\":[6.069254453176623,6.1667682720314305,6.078696735514716,5.984372260762854,6.161039764017879,5.97053661912648,6.150179676582153,6.114515802269044,5.898129687648343,5.96113503367561,6.0150451758631815,5.962869885669445],\"yaxis\":\"y\"},{\"hovertemplate\":\"transformation_unit=-C2 -H4 -O1<br>measurement=%{x}<br>share in %=%{y}<extra></extra>\",\"legendgroup\":\"-C2 -H4 -O1\",\"line\":{\"color\":\"#FFA15A\",\"dash\":\"solid\"},\"marker\":{\"symbol\":\"cross\"},\"mode\":\"lines+markers\",\"name\":\"-C2 -H4 -O1\",\"orientation\":\"v\",\"showlegend\":true,\"type\":\"scatter\",\"x\":[0,1,2,3,4,5,6,7,8,9,10,11],\"xaxis\":\"x\",\"y\":[6.3912047125644955,6.509517035832825,6.368339172558593,6.458964662275539,6.568083160511638,6.319054798922312,6.670493112397684,6.463989059967585,6.444033039020222,6.433697692392625,6.471845756695709,6.444627655875955],\"yaxis\":\"y\"},{\"hovertemplate\":\"transformation_unit=-C1 -O1<br>measurement=%{x}<br>share in %=%{y}<extra></extra>\",\"legendgroup\":\"-C1 -O1\",\"line\":{\"color\":\"#19d3f3\",\"dash\":\"solid\"},\"marker\":{\"symbol\":\"circle\"},\"mode\":\"lines+markers\",\"name\":\"-C1 -O1\",\"orientation\":\"v\",\"showlegend\":true,\"type\":\"scatter\",\"x\":[0,1,2,3,4,5,6,7,8,9,10,11],\"xaxis\":\"x\",\"y\":[6.895921494748977,6.9728374991532895,6.775609324209807,6.934809286483508,6.807671995156698,6.736782262649232,7.04731483330006,6.886902350081037,6.791749738915788,6.752787898862758,6.907470151661826,6.8995659213493195],\"yaxis\":\"y\"},{\"hovertemplate\":\"transformation_unit=-C1 -H2<br>measurement=%{x}<br>share in %=%{y}<extra></extra>\",\"legendgroup\":\"-C1 -H2\",\"line\":{\"color\":\"#FF6692\",\"dash\":\"solid\"},\"marker\":{\"symbol\":\"diamond\"},\"mode\":\"lines+markers\",\"name\":\"-C1 -H2\",\"orientation\":\"v\",\"showlegend\":true,\"type\":\"scatter\",\"x\":[0,1,2,3,4,5,6,7,8,9,10,11],\"xaxis\":\"x\",\"y\":[7.198189205527984,7.20043351622299,7.155053564878641,7.180244934759197,7.232748959849548,7.145858565884766,7.164603713316032,7.216116288492707,7.252207348333808,7.162415810974937,7.14040819619232,7.088295769471458],\"yaxis\":\"y\"},{\"hovertemplate\":\"transformation_unit=-C2 -H2<br>measurement=%{x}<br>share in %=%{y}<extra></extra>\",\"legendgroup\":\"-C2 -H2\",\"line\":{\"color\":\"#B6E880\",\"dash\":\"solid\"},\"marker\":{\"symbol\":\"square\"},\"mode\":\"lines+markers\",\"name\":\"-C2 -H2\",\"orientation\":\"v\",\"showlegend\":true,\"type\":\"scatter\",\"x\":[0,1,2,3,4,5,6,7,8,9,10,11],\"xaxis\":\"x\",\"y\":[6.4783702849751865,6.455327507959087,6.463200232725801,6.5654035913746895,6.530727912099237,6.473539807697061,6.534487921740867,6.482982171799027,6.538972752302288,6.464613006514298,6.451677960632463,6.4545608057771195],\"yaxis\":\"y\"},{\"hovertemplate\":\"transformation_unit=-C1<br>measurement=%{x}<br>share in %=%{y}<extra></extra>\",\"legendgroup\":\"-C1\",\"line\":{\"color\":\"#FF97FF\",\"dash\":\"solid\"},\"marker\":{\"symbol\":\"x\"},\"mode\":\"lines+markers\",\"name\":\"-C1\",\"orientation\":\"v\",\"showlegend\":true,\"type\":\"scatter\",\"x\":[0,1,2,3,4,5,6,7,8,9,10,11],\"xaxis\":\"x\",\"y\":[6.935286591966708,6.896972160130055,6.860351871292513,6.993663753161862,6.8424510195406585,6.883851991002793,6.9125573966859655,6.913492706645057,6.993496629640178,6.8941150491332674,6.923604388512423,6.905525811290018],\"yaxis\":\"y\"},{\"hovertemplate\":\"transformation_unit=H2 O1<br>measurement=%{x}<br>share in %=%{y}<extra></extra>\",\"legendgroup\":\"H2 O1\",\"line\":{\"color\":\"#FECB52\",\"dash\":\"solid\"},\"marker\":{\"symbol\":\"cross\"},\"mode\":\"lines+markers\",\"name\":\"H2 O1\",\"orientation\":\"v\",\"showlegend\":true,\"type\":\"scatter\",\"x\":[0,1,2,3,4,5,6,7,8,9,10,11],\"xaxis\":\"x\",\"y\":[6.122678513686401,6.020456546772336,6.117905973717162,6.178466778531894,6.036092898638466,6.258496675482611,6.025404272309842,6.084126823338735,6.185322320326592,6.1731257590813735,6.120926105195224,6.170472718603796],\"yaxis\":\"y\"},{\"hovertemplate\":\"transformation_unit=-H2 O1<br>measurement=%{x}<br>share in %=%{y}<extra></extra>\",\"legendgroup\":\"-H2 O1\",\"line\":{\"color\":\"#636efa\",\"dash\":\"solid\"},\"marker\":{\"symbol\":\"circle\"},\"mode\":\"lines+markers\",\"name\":\"-H2 O1\",\"orientation\":\"v\",\"showlegend\":true,\"type\":\"scatter\",\"x\":[0,1,2,3,4,5,6,7,8,9,10,11],\"xaxis\":\"x\",\"y\":[6.562724064727467,6.517645465013885,6.622566813806712,6.4226502041122995,6.568083160511638,6.6292606965420084,6.392243960870434,6.542493922204214,6.568641412702933,6.547421883625924,6.402266860277509,6.396948536350362],\"yaxis\":\"y\"},{\"hovertemplate\":\"transformation_unit=O1<br>measurement=%{x}<br>share in %=%{y}<extra></extra>\",\"legendgroup\":\"O1\",\"line\":{\"color\":\"#EF553B\",\"dash\":\"solid\"},\"marker\":{\"symbol\":\"diamond\"},\"mode\":\"lines+markers\",\"name\":\"O1\",\"orientation\":\"v\",\"showlegend\":true,\"type\":\"scatter\",\"x\":[0,1,2,3,4,5,6,7,8,9,10,11],\"xaxis\":\"x\",\"y\":[6.872021257152497,6.803495224547857,6.846438915801323,6.777029226877708,6.801231435085595,6.902390192055763,6.619335196646037,6.797001620745544,6.860581031045286,6.8256597107209895,6.753186511777994,6.692956403405084],\"yaxis\":\"y\"},{\"hovertemplate\":\"transformation_unit=-C1 -H2 O1<br>measurement=%{x}<br>share in %=%{y}<extra></extra>\",\"legendgroup\":\"-C1 -H2 O1\",\"line\":{\"color\":\"#00cc96\",\"dash\":\"solid\"},\"marker\":{\"symbol\":\"square\"},\"mode\":\"lines+markers\",\"name\":\"-C1 -H2 O1\",\"orientation\":\"v\",\"showlegend\":true,\"type\":\"scatter\",\"x\":[0,1,2,3,4,5,6,7,8,9,10,11],\"xaxis\":\"x\",\"y\":[6.327939377750284,6.294113662534715,6.313952164729393,6.2773923714593405,6.261512501127098,6.387028202783202,6.175134757436615,6.284187601296597,6.322984904585588,6.307828199182952,6.185463052597613,6.20921200321834],\"yaxis\":\"y\"},{\"hovertemplate\":\"transformation_unit=H1 -O1 N1<br>measurement=%{x}<br>share in %=%{y}<extra></extra>\",\"legendgroup\":\"H1 -O1 N1\",\"line\":{\"color\":\"#ab63fa\",\"dash\":\"solid\"},\"marker\":{\"symbol\":\"x\"},\"mode\":\"lines+markers\",\"name\":\"H1 -O1 N1\",\"orientation\":\"v\",\"showlegend\":true,\"type\":\"scatter\",\"x\":[0,1,2,3,4,5,6,7,8,9,10,11],\"xaxis\":\"x\",\"y\":[1.795329612394382,1.9183092867303395,1.9098693446997963,1.76187733226477,1.88966032486185,1.8946041476135156,1.7219005789578758,1.9081746353322528,1.8382701984240006,2.1210113724191233,2.1317360438851245,2.1823130332859852],\"yaxis\":\"y\"},{\"hovertemplate\":\"transformation_unit=-H1 O1 -N1<br>measurement=%{x}<br>share in %=%{y}<extra></extra>\",\"legendgroup\":\"-H1 O1 -N1\",\"line\":{\"color\":\"#FFA15A\",\"dash\":\"solid\"},\"marker\":{\"symbol\":\"cross\"},\"mode\":\"lines+markers\",\"name\":\"-H1 O1 -N1\",\"orientation\":\"v\",\"showlegend\":true,\"type\":\"scatter\",\"x\":[0,1,2,3,4,5,6,7,8,9,10,11],\"xaxis\":\"x\",\"y\":[1.8206357463200664,1.7462575357312198,1.820067541074839,1.8820907110120462,1.7814589156673066,1.8105643028400522,1.8990816530245556,1.753697325769854,1.8192822557675874,1.7632770232968973,1.984511132623427,2.1286740238196935],\"yaxis\":\"y\"},{\"hovertemplate\":\"transformation_unit=O2<br>measurement=%{x}<br>share in %=%{y}<extra></extra>\",\"legendgroup\":\"O2\",\"line\":{\"color\":\"#19d3f3\",\"dash\":\"solid\"},\"marker\":{\"symbol\":\"circle\"},\"mode\":\"lines+markers\",\"name\":\"O2\",\"orientation\":\"v\",\"showlegend\":true,\"type\":\"scatter\",\"x\":[0,1,2,3,4,5,6,7,8,9,10,11],\"xaxis\":\"x\",\"y\":[5.529390262762024,5.479916006231796,5.610715505356488,5.492248741516191,5.425527803897827,5.703586523963715,5.351617089239369,5.458620340356564,5.527864805848286,5.551507121563431,5.429170700225879,5.411580066154778],\"yaxis\":\"y\"},{\"hovertemplate\":\"transformation_unit=-O3 -S1<br>measurement=%{x}<br>share in %=%{y}<extra></extra>\",\"legendgroup\":\"-O3 -S1\",\"line\":{\"color\":\"#FF6692\",\"dash\":\"solid\"},\"marker\":{\"symbol\":\"diamond\"},\"mode\":\"lines+markers\",\"name\":\"-O3 -S1\",\"orientation\":\"v\",\"showlegend\":true,\"type\":\"scatter\",\"x\":[0,1,2,3,4,5,6,7,8,9,10,11],\"xaxis\":\"x\",\"y\":[0.4611339959791365,0.41725936462778573,0.4591275312092888,0.4758446242079692,0.4302294127497327,0.4486244654818696,0.49036733879017763,0.44317260940032416,0.4485901452577613,0.48691619741636305,0.5142787996127783,0.5423499846036177],\"yaxis\":\"y\"},{\"hovertemplate\":\"transformation_unit=-O1 -S1<br>measurement=%{x}<br>share in %=%{y}<extra></extra>\",\"legendgroup\":\"-O1 -S1\",\"line\":{\"color\":\"#B6E880\",\"dash\":\"solid\"},\"marker\":{\"symbol\":\"square\"},\"mode\":\"lines+markers\",\"name\":\"-O1 -S1\",\"orientation\":\"v\",\"showlegend\":true,\"type\":\"scatter\",\"x\":[0,1,2,3,4,5,6,7,8,9,10,11],\"xaxis\":\"x\",\"y\":[0.5764174949739206,0.5215742057847321,0.6007867143923201,0.5860402213929725,0.5307021498589517,0.5771559927824603,0.5976741864643641,0.5685271474878444,0.579132251020602,0.6094733355415701,0.6403275250080671,0.6575745234571334],\"yaxis\":\"y\"},{\"hovertemplate\":\"transformation_unit=-S1<br>measurement=%{x}<br>share in %=%{y}<extra></extra>\",\"legendgroup\":\"-S1\",\"line\":{\"color\":\"#FF97FF\",\"dash\":\"solid\"},\"marker\":{\"symbol\":\"x\"},\"mode\":\"lines+markers\",\"name\":\"-S1\",\"orientation\":\"v\",\"showlegend\":true,\"type\":\"scatter\",\"x\":[0,1,2,3,4,5,6,7,8,9,10,11],\"xaxis\":\"x\",\"y\":[0.6537417930801783,0.5960848066111224,0.6804700049327751,0.6686869192817251,0.6144294307833009,0.6438935165731517,0.6800259532840887,0.6407009724473257,0.658644260894332,0.6944904493761731,0.7119232010325912,0.7251199427850565],\"yaxis\":\"y\"},{\"hovertemplate\":\"transformation_unit=-H4 O2<br>measurement=%{x}<br>share in %=%{y}<extra></extra>\",\"legendgroup\":\"-H4 O2\",\"line\":{\"color\":\"#FECB52\",\"dash\":\"solid\"},\"marker\":{\"symbol\":\"cross\"},\"mode\":\"lines+markers\",\"name\":\"-H4 O2\",\"orientation\":\"v\",\"showlegend\":true,\"type\":\"scatter\",\"x\":[0,1,2,3,4,5,6,7,8,9,10,11],\"xaxis\":\"x\",\"y\":[5.1104331566590275,5.064011379800854,5.217358309196463,5.036439680432768,5.12410959257017,5.2351879773586765,4.918646436414454,5.081290518638574,5.148105952720023,5.146295682897207,4.980437237818651,4.9467086507802485],\"yaxis\":\"y\"}],                        {\"legend\":{\"title\":{\"text\":\"transformation_unit\"},\"tracegroupgap\":0},\"template\":{\"data\":{\"bar\":[{\"error_x\":{\"color\":\"#2a3f5f\"},\"error_y\":{\"color\":\"#2a3f5f\"},\"marker\":{\"line\":{\"color\":\"#E5ECF6\",\"width\":0.5},\"pattern\":{\"fillmode\":\"overlay\",\"size\":10,\"solidity\":0.2}},\"type\":\"bar\"}],\"barpolar\":[{\"marker\":{\"line\":{\"color\":\"#E5ECF6\",\"width\":0.5},\"pattern\":{\"fillmode\":\"overlay\",\"size\":10,\"solidity\":0.2}},\"type\":\"barpolar\"}],\"carpet\":[{\"aaxis\":{\"endlinecolor\":\"#2a3f5f\",\"gridcolor\":\"white\",\"linecolor\":\"white\",\"minorgridcolor\":\"white\",\"startlinecolor\":\"#2a3f5f\"},\"baxis\":{\"endlinecolor\":\"#2a3f5f\",\"gridcolor\":\"white\",\"linecolor\":\"white\",\"minorgridcolor\":\"white\",\"startlinecolor\":\"#2a3f5f\"},\"type\":\"carpet\"}],\"choropleth\":[{\"colorbar\":{\"outlinewidth\":0,\"ticks\":\"\"},\"type\":\"choropleth\"}],\"contour\":[{\"colorbar\":{\"outlinewidth\":0,\"ticks\":\"\"},\"colorscale\":[[0.0,\"#0d0887\"],[0.1111111111111111,\"#46039f\"],[0.2222222222222222,\"#7201a8\"],[0.3333333333333333,\"#9c179e\"],[0.4444444444444444,\"#bd3786\"],[0.5555555555555556,\"#d8576b\"],[0.6666666666666666,\"#ed7953\"],[0.7777777777777778,\"#fb9f3a\"],[0.8888888888888888,\"#fdca26\"],[1.0,\"#f0f921\"]],\"type\":\"contour\"}],\"contourcarpet\":[{\"colorbar\":{\"outlinewidth\":0,\"ticks\":\"\"},\"type\":\"contourcarpet\"}],\"heatmap\":[{\"colorbar\":{\"outlinewidth\":0,\"ticks\":\"\"},\"colorscale\":[[0.0,\"#0d0887\"],[0.1111111111111111,\"#46039f\"],[0.2222222222222222,\"#7201a8\"],[0.3333333333333333,\"#9c179e\"],[0.4444444444444444,\"#bd3786\"],[0.5555555555555556,\"#d8576b\"],[0.6666666666666666,\"#ed7953\"],[0.7777777777777778,\"#fb9f3a\"],[0.8888888888888888,\"#fdca26\"],[1.0,\"#f0f921\"]],\"type\":\"heatmap\"}],\"heatmapgl\":[{\"colorbar\":{\"outlinewidth\":0,\"ticks\":\"\"},\"colorscale\":[[0.0,\"#0d0887\"],[0.1111111111111111,\"#46039f\"],[0.2222222222222222,\"#7201a8\"],[0.3333333333333333,\"#9c179e\"],[0.4444444444444444,\"#bd3786\"],[0.5555555555555556,\"#d8576b\"],[0.6666666666666666,\"#ed7953\"],[0.7777777777777778,\"#fb9f3a\"],[0.8888888888888888,\"#fdca26\"],[1.0,\"#f0f921\"]],\"type\":\"heatmapgl\"}],\"histogram\":[{\"marker\":{\"pattern\":{\"fillmode\":\"overlay\",\"size\":10,\"solidity\":0.2}},\"type\":\"histogram\"}],\"histogram2d\":[{\"colorbar\":{\"outlinewidth\":0,\"ticks\":\"\"},\"colorscale\":[[0.0,\"#0d0887\"],[0.1111111111111111,\"#46039f\"],[0.2222222222222222,\"#7201a8\"],[0.3333333333333333,\"#9c179e\"],[0.4444444444444444,\"#bd3786\"],[0.5555555555555556,\"#d8576b\"],[0.6666666666666666,\"#ed7953\"],[0.7777777777777778,\"#fb9f3a\"],[0.8888888888888888,\"#fdca26\"],[1.0,\"#f0f921\"]],\"type\":\"histogram2d\"}],\"histogram2dcontour\":[{\"colorbar\":{\"outlinewidth\":0,\"ticks\":\"\"},\"colorscale\":[[0.0,\"#0d0887\"],[0.1111111111111111,\"#46039f\"],[0.2222222222222222,\"#7201a8\"],[0.3333333333333333,\"#9c179e\"],[0.4444444444444444,\"#bd3786\"],[0.5555555555555556,\"#d8576b\"],[0.6666666666666666,\"#ed7953\"],[0.7777777777777778,\"#fb9f3a\"],[0.8888888888888888,\"#fdca26\"],[1.0,\"#f0f921\"]],\"type\":\"histogram2dcontour\"}],\"mesh3d\":[{\"colorbar\":{\"outlinewidth\":0,\"ticks\":\"\"},\"type\":\"mesh3d\"}],\"parcoords\":[{\"line\":{\"colorbar\":{\"outlinewidth\":0,\"ticks\":\"\"}},\"type\":\"parcoords\"}],\"pie\":[{\"automargin\":true,\"type\":\"pie\"}],\"scatter\":[{\"marker\":{\"colorbar\":{\"outlinewidth\":0,\"ticks\":\"\"}},\"type\":\"scatter\"}],\"scatter3d\":[{\"line\":{\"colorbar\":{\"outlinewidth\":0,\"ticks\":\"\"}},\"marker\":{\"colorbar\":{\"outlinewidth\":0,\"ticks\":\"\"}},\"type\":\"scatter3d\"}],\"scattercarpet\":[{\"marker\":{\"colorbar\":{\"outlinewidth\":0,\"ticks\":\"\"}},\"type\":\"scattercarpet\"}],\"scattergeo\":[{\"marker\":{\"colorbar\":{\"outlinewidth\":0,\"ticks\":\"\"}},\"type\":\"scattergeo\"}],\"scattergl\":[{\"marker\":{\"colorbar\":{\"outlinewidth\":0,\"ticks\":\"\"}},\"type\":\"scattergl\"}],\"scattermapbox\":[{\"marker\":{\"colorbar\":{\"outlinewidth\":0,\"ticks\":\"\"}},\"type\":\"scattermapbox\"}],\"scatterpolar\":[{\"marker\":{\"colorbar\":{\"outlinewidth\":0,\"ticks\":\"\"}},\"type\":\"scatterpolar\"}],\"scatterpolargl\":[{\"marker\":{\"colorbar\":{\"outlinewidth\":0,\"ticks\":\"\"}},\"type\":\"scatterpolargl\"}],\"scatterternary\":[{\"marker\":{\"colorbar\":{\"outlinewidth\":0,\"ticks\":\"\"}},\"type\":\"scatterternary\"}],\"surface\":[{\"colorbar\":{\"outlinewidth\":0,\"ticks\":\"\"},\"colorscale\":[[0.0,\"#0d0887\"],[0.1111111111111111,\"#46039f\"],[0.2222222222222222,\"#7201a8\"],[0.3333333333333333,\"#9c179e\"],[0.4444444444444444,\"#bd3786\"],[0.5555555555555556,\"#d8576b\"],[0.6666666666666666,\"#ed7953\"],[0.7777777777777778,\"#fb9f3a\"],[0.8888888888888888,\"#fdca26\"],[1.0,\"#f0f921\"]],\"type\":\"surface\"}],\"table\":[{\"cells\":{\"fill\":{\"color\":\"#EBF0F8\"},\"line\":{\"color\":\"white\"}},\"header\":{\"fill\":{\"color\":\"#C8D4E3\"},\"line\":{\"color\":\"white\"}},\"type\":\"table\"}]},\"layout\":{\"annotationdefaults\":{\"arrowcolor\":\"#2a3f5f\",\"arrowhead\":0,\"arrowwidth\":1},\"autotypenumbers\":\"strict\",\"coloraxis\":{\"colorbar\":{\"outlinewidth\":0,\"ticks\":\"\"}},\"colorscale\":{\"diverging\":[[0,\"#8e0152\"],[0.1,\"#c51b7d\"],[0.2,\"#de77ae\"],[0.3,\"#f1b6da\"],[0.4,\"#fde0ef\"],[0.5,\"#f7f7f7\"],[0.6,\"#e6f5d0\"],[0.7,\"#b8e186\"],[0.8,\"#7fbc41\"],[0.9,\"#4d9221\"],[1,\"#276419\"]],\"sequential\":[[0.0,\"#0d0887\"],[0.1111111111111111,\"#46039f\"],[0.2222222222222222,\"#7201a8\"],[0.3333333333333333,\"#9c179e\"],[0.4444444444444444,\"#bd3786\"],[0.5555555555555556,\"#d8576b\"],[0.6666666666666666,\"#ed7953\"],[0.7777777777777778,\"#fb9f3a\"],[0.8888888888888888,\"#fdca26\"],[1.0,\"#f0f921\"]],\"sequentialminus\":[[0.0,\"#0d0887\"],[0.1111111111111111,\"#46039f\"],[0.2222222222222222,\"#7201a8\"],[0.3333333333333333,\"#9c179e\"],[0.4444444444444444,\"#bd3786\"],[0.5555555555555556,\"#d8576b\"],[0.6666666666666666,\"#ed7953\"],[0.7777777777777778,\"#fb9f3a\"],[0.8888888888888888,\"#fdca26\"],[1.0,\"#f0f921\"]]},\"colorway\":[\"#636efa\",\"#EF553B\",\"#00cc96\",\"#ab63fa\",\"#FFA15A\",\"#19d3f3\",\"#FF6692\",\"#B6E880\",\"#FF97FF\",\"#FECB52\"],\"font\":{\"color\":\"#2a3f5f\"},\"geo\":{\"bgcolor\":\"white\",\"lakecolor\":\"white\",\"landcolor\":\"#E5ECF6\",\"showlakes\":true,\"showland\":true,\"subunitcolor\":\"white\"},\"hoverlabel\":{\"align\":\"left\"},\"hovermode\":\"closest\",\"mapbox\":{\"style\":\"light\"},\"paper_bgcolor\":\"white\",\"plot_bgcolor\":\"#E5ECF6\",\"polar\":{\"angularaxis\":{\"gridcolor\":\"white\",\"linecolor\":\"white\",\"ticks\":\"\"},\"bgcolor\":\"#E5ECF6\",\"radialaxis\":{\"gridcolor\":\"white\",\"linecolor\":\"white\",\"ticks\":\"\"}},\"scene\":{\"xaxis\":{\"backgroundcolor\":\"#E5ECF6\",\"gridcolor\":\"white\",\"gridwidth\":2,\"linecolor\":\"white\",\"showbackground\":true,\"ticks\":\"\",\"zerolinecolor\":\"white\"},\"yaxis\":{\"backgroundcolor\":\"#E5ECF6\",\"gridcolor\":\"white\",\"gridwidth\":2,\"linecolor\":\"white\",\"showbackground\":true,\"ticks\":\"\",\"zerolinecolor\":\"white\"},\"zaxis\":{\"backgroundcolor\":\"#E5ECF6\",\"gridcolor\":\"white\",\"gridwidth\":2,\"linecolor\":\"white\",\"showbackground\":true,\"ticks\":\"\",\"zerolinecolor\":\"white\"}},\"shapedefaults\":{\"line\":{\"color\":\"#2a3f5f\"}},\"ternary\":{\"aaxis\":{\"gridcolor\":\"white\",\"linecolor\":\"white\",\"ticks\":\"\"},\"baxis\":{\"gridcolor\":\"white\",\"linecolor\":\"white\",\"ticks\":\"\"},\"bgcolor\":\"#E5ECF6\",\"caxis\":{\"gridcolor\":\"white\",\"linecolor\":\"white\",\"ticks\":\"\"}},\"title\":{\"x\":0.05},\"xaxis\":{\"automargin\":true,\"gridcolor\":\"white\",\"linecolor\":\"white\",\"ticks\":\"\",\"title\":{\"standoff\":15},\"zerolinecolor\":\"white\",\"zerolinewidth\":2},\"yaxis\":{\"automargin\":true,\"gridcolor\":\"white\",\"linecolor\":\"white\",\"ticks\":\"\",\"title\":{\"standoff\":15},\"zerolinecolor\":\"white\",\"zerolinewidth\":2}}},\"title\":{\"text\":\"Transformations and their share per measurement - PT\"},\"xaxis\":{\"anchor\":\"y\",\"domain\":[0.0,1.0],\"dtick\":1,\"tick0\":0,\"tickmode\":\"linear\",\"title\":{\"text\":\"measurement\"}},\"yaxis\":{\"anchor\":\"x\",\"domain\":[0.0,1.0],\"title\":{\"text\":\"share in %\"}}},                        {\"responsive\": true}                    ).then(function(){\n",
       "                            \n",
       "var gd = document.getElementById('21dbbb68-14fa-48fe-a4d1-3573e5a452eb');\n",
       "var x = new MutationObserver(function (mutations, observer) {{\n",
       "        var display = window.getComputedStyle(gd).display;\n",
       "        if (!display || display === 'none') {{\n",
       "            console.log([gd, 'removed!']);\n",
       "            Plotly.purge(gd);\n",
       "            observer.disconnect();\n",
       "        }}\n",
       "}});\n",
       "\n",
       "// Listen for the removal of the full notebook cells\n",
       "var notebookContainer = gd.closest('#notebook-container');\n",
       "if (notebookContainer) {{\n",
       "    x.observe(notebookContainer, {childList: true});\n",
       "}}\n",
       "\n",
       "// Listen for the clearing of the current output cell\n",
       "var outputEl = gd.closest('.output');\n",
       "if (outputEl) {{\n",
       "    x.observe(outputEl, {childList: true});\n",
       "}}\n",
       "\n",
       "                        })                };                });            </script>        </div>"
      ]
     },
     "metadata": {},
     "output_type": "display_data"
    }
   ],
   "source": [
    "df_time = call_graph.run(\"\"\"\n",
    "    MATCH (t:Measurement)\n",
    "    RETURN t.point_in_time as time\n",
    "\"\"\").to_data_frame()\n",
    "\n",
    "time_list = df_time['time'].to_list()\n",
    "del time_list[-1]\n",
    "\n",
    "df_tu_hti = call_graph.run(\"\"\"\n",
    "    MATCH (:Molecule)-[t:HAS_TRANSFORMED_INTO]->(:Molecule)\n",
    "    RETURN DISTINCT t.transformation_unit as transformation_unit\n",
    "    \"\"\").to_data_frame()\n",
    "\n",
    "df_tu_pt = call_graph.run(\"\"\"\n",
    "    MATCH (:Molecule)-[t:POTENTIAL_TRANSFORMATION]->(:Molecule)\n",
    "    RETURN DISTINCT t.tu_pt as transformation_unit\n",
    "    \"\"\").to_data_frame()\n",
    "\n",
    "for ele in time_list:\n",
    "    transform_count_hti = call_graph.run(\"\"\"\n",
    "    MATCH (m:Measurement)-[:MEASURED_IN]-(:Molecule)-[t:HAS_TRANSFORMED_INTO]->(:Molecule)\n",
    "    WHERE m.point_in_time = \"\"\" + str(ele) + \"\"\"\n",
    "    RETURN t.transformation_unit as transformation_unit, count(t.transformation_unit) as Count_HTI_\"\"\" + str(ele) + \"\"\"\n",
    "    ORDER BY Count_HTI_\"\"\" + str(ele) + \"\"\" DESC\n",
    "    \"\"\").to_data_frame()\n",
    "\n",
    "    transform_count_cti = call_graph.run(\"\"\"\n",
    "    MATCH (m:Measurement)-[:MEASURED_IN]-(:Molecule)-[t:POTENTIAL_TRANSFORMATION]->(:Molecule)\n",
    "    WHERE m.point_in_time = \"\"\" + str(ele) + \"\"\"\n",
    "    RETURN t.tu_pt as transformation_unit, count(t.tu_pt) as Count_PT_\"\"\" + str(ele) + \"\"\"\n",
    "    ORDER BY Count_PT_\"\"\" + str(ele) + \"\"\" DESC\n",
    "    \"\"\").to_data_frame()\n",
    "    \n",
    "    df_tu_hti = pd.merge(df_tu_hti, transform_count_hti, on=[\"transformation_unit\"])\n",
    "    df_tu_hti['share_hti_' + str(ele)] = df_tu_hti['Count_HTI_' + str(ele)]/df_tu_hti['Count_HTI_' + str(ele)].sum()*100\n",
    "    \n",
    "    df_tu_pt = pd.merge(df_tu_pt, transform_count_cti, on=[\"transformation_unit\"])\n",
    "    df_tu_pt['share_pt_' + str(ele)] = df_tu_pt['Count_PT_' + str(ele)]/df_tu_pt['Count_PT_' + str(ele)].sum()*100\n",
    "\n",
    "# drop columns 'Count_'\n",
    "# HTI\n",
    "droplist_hti = [i for i in df_tu_hti.columns if i.startswith('Count')]\n",
    "df_tu_hti = df_tu_hti.drop(columns=droplist_hti, axis=1)\n",
    "# PT\n",
    "droplist_pt = [i for i in df_tu_pt.columns if i.startswith('Count')]\n",
    "df_tu_pt = df_tu_pt.drop(columns=droplist_pt, axis=1)\n",
    "\n",
    "# make dataframe vertical\n",
    "# HTI\n",
    "df_tu_hti = df_tu_hti.replace('', np.nan).set_index('transformation_unit').stack().reset_index(name='share').drop('level_1',1)\n",
    "# PT\n",
    "df_tu_pt = df_tu_pt.replace('', np.nan).set_index('transformation_unit').stack().reset_index(name='share').drop('level_1',1)\n",
    "\n",
    "# add time to dataframe\n",
    "# HTI\n",
    "times_repeat = len(df_tu_hti)/len(time_list)\n",
    "times_list_hti = time_list * int(times_repeat)\n",
    "df_tu_hti['point_in_time'] = times_list_hti\n",
    "# PT\n",
    "times_repeat = len(df_tu_pt)/len(time_list)\n",
    "times_list_pt = time_list * int(times_repeat)\n",
    "df_tu_pt['point_in_time'] = times_list_pt\n",
    "\n",
    "# create plots\n",
    "# HTI\n",
    "fig = px.line(df_tu_hti, x='point_in_time', y='share', color='transformation_unit', symbol=\"transformation_unit\",\n",
    "                labels={\n",
    "                    \"share\": \"share in %\",\n",
    "                    \"point_in_time\": \"measurement\"\n",
    "                 },\n",
    "                title=\"Transformations and their share per measurement - HTI\")\n",
    "fig.update_layout(\n",
    "    xaxis = dict(\n",
    "        tickmode = 'linear',\n",
    "        tick0 = 0,\n",
    "        dtick = 1\n",
    "    )\n",
    ")\n",
    "fig.show()\n",
    "\n",
    "# PT\n",
    "fig = px.line(df_tu_pt, x='point_in_time', y='share', color='transformation_unit', symbol=\"transformation_unit\",\n",
    "                labels={\n",
    "                    \"share\": \"share in %\",\n",
    "                    \"point_in_time\": \"measurement\"\n",
    "                 },\n",
    "                title=\"Transformations and their share per measurement - PT\")\n",
    "fig.update_layout(\n",
    "    xaxis = dict(\n",
    "        tickmode = 'linear',\n",
    "        tick0 = 0,\n",
    "        dtick = 1\n",
    "    )\n",
    ")\n",
    "fig.show()"
   ]
  }
 ],
 "metadata": {
  "kernelspec": {
   "display_name": "Python 3 (ipykernel)",
   "language": "python",
   "name": "python3"
  },
  "language_info": {
   "codemirror_mode": {
    "name": "ipython",
    "version": 3
   },
   "file_extension": ".py",
   "mimetype": "text/x-python",
   "name": "python",
   "nbconvert_exporter": "python",
   "pygments_lexer": "ipython3",
   "version": "3.9.6"
  }
 },
 "nbformat": 4,
 "nbformat_minor": 4
}
