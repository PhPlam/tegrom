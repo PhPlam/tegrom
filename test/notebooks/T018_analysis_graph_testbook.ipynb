{
 "cells": [
  {
   "cell_type": "markdown",
   "metadata": {},
   "source": [
    "# Test Notebook Graph"
   ]
  },
  {
   "cell_type": "code",
   "execution_count": 3,
   "metadata": {},
   "outputs": [],
   "source": [
    "import pandas as pd\n",
    "from py2neo import Graph\n",
    "import matplotlib.pyplot as plt\n",
    "import numpy as np\n",
    "import plotly.express as px\n",
    "\n",
    "# host + port\n",
    "host = 'http://localhost:7474'\n",
    "\n",
    "# select database name\n",
    "db_name = 'modelparallel'\n",
    "\n",
    "# credentials for API\n",
    "user = 'neo4j'\n",
    "passwd = '1234'\n",
    "\n",
    "# connect to database\n",
    "call_graph = Graph(host, auth=(user, passwd), name=db_name)"
   ]
  },
  {
   "cell_type": "markdown",
   "metadata": {},
   "source": [
    "## Test functions here"
   ]
  },
  {
   "cell_type": "markdown",
   "metadata": {},
   "source": [
    "### get molecules with more than 10 outgoing transformations and sort by weight"
   ]
  },
  {
   "cell_type": "code",
   "execution_count": 47,
   "metadata": {},
   "outputs": [],
   "source": [
    "df_transformations = call_graph.run(\"\"\"\n",
    "MATCH (m:Molecule)-[t:HAS_TRANSFORMED_INTO]->(:Molecule)\n",
    "WITH m, count(t) as count_HTI\n",
    "MATCH (m2:Molecule)-[t:HAS_TRANSFORMED_INTO]->(:Molecule)\n",
    "WHERE m.formula_string = m2.formula_string\n",
    "AND m.sample_id = m2.sample_id\n",
    "AND count_HTI >= 10\n",
    "RETURN m2.formula_string as formula_string, m2.sample_id as sample_id, count_HTI as outgoing_transformations, collect({transformation_unit: t.transformation_unit, weight_combined: t.combined_weight, weight_connected: t.connected_weight}) as transformation_details\n",
    "\"\"\").to_data_frame()"
   ]
  },
  {
   "cell_type": "code",
   "execution_count": 48,
   "metadata": {},
   "outputs": [],
   "source": [
    "df_transformations = df_transformations.sort_values(by=['outgoing_transformations'], ascending=False).reset_index(drop=True)"
   ]
  },
  {
   "cell_type": "code",
   "execution_count": 50,
   "metadata": {},
   "outputs": [],
   "source": [
    "full_sorted_list = []\n",
    "for row in df_transformations.itertuples():\n",
    "    sorted_list = sorted(row.transformation_details, key=lambda d: d['weight_connected'], reverse=True)\n",
    "    #print(sorted_list)\n",
    "    sorted_transformation_list = []\n",
    "    for ele in sorted_list:\n",
    "        sorted_transformation_list.append(ele['transformation_unit'])\n",
    "    full_sorted_list.append(sorted_transformation_list)\n",
    "df_transformations['sorted_transformations_connected_weight'] = full_sorted_list"
   ]
  },
  {
   "cell_type": "code",
   "execution_count": 55,
   "metadata": {
    "scrolled": true
   },
   "outputs": [],
   "source": [
    "df_transformations.to_csv('molecules_outgoing_transformations.csv', sep=',', encoding='utf-8', index=False)"
   ]
  }
 ],
 "metadata": {
  "kernelspec": {
   "display_name": "Python 3 (ipykernel)",
   "language": "python",
   "name": "python3"
  },
  "language_info": {
   "codemirror_mode": {
    "name": "ipython",
    "version": 3
   },
   "file_extension": ".py",
   "mimetype": "text/x-python",
   "name": "python",
   "nbconvert_exporter": "python",
   "pygments_lexer": "ipython3",
   "version": "3.9.6"
  }
 },
 "nbformat": 4,
 "nbformat_minor": 4
}
