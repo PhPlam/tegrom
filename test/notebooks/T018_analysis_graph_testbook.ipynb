{
 "cells": [
  {
   "cell_type": "markdown",
   "metadata": {},
   "source": [
    "# Test Notebook Graph"
   ]
  },
  {
   "cell_type": "code",
   "execution_count": 22,
   "metadata": {},
   "outputs": [],
   "source": [
    "import pandas as pd\n",
    "from py2neo import Graph\n",
    "import matplotlib.pyplot as plt\n",
    "import numpy as np\n",
    "#import plotly.express as px\n",
    "\n",
    "# host + port\n",
    "host = 'http://localhost:7474'\n",
    "\n",
    "# select database name\n",
    "db_name = 'modelparallel'\n",
    "\n",
    "# credentials for API\n",
    "user = 'neo4j'\n",
    "passwd = '1234'\n",
    "\n",
    "# connect to database\n",
    "call_graph = Graph(host, auth=(user, passwd), name=db_name)"
   ]
  },
  {
   "cell_type": "markdown",
   "metadata": {},
   "source": [
    "## Test functions here"
   ]
  },
  {
   "cell_type": "code",
   "execution_count": 47,
   "metadata": {},
   "outputs": [],
   "source": [
    "df_trend_ranks = call_graph.run(\"\"\"\n",
    "    MATCH (m:Molecule)-[:SAME_AS*..]->(m2:Molecule)\n",
    "    WHERE m.point_in_time = 0 AND m2.point_in_time = 12\n",
    "    WITH m.formula_string as fs_match, m2.peak_relint_tic/m.peak_relint_tic as overall_trend\n",
    "    MATCH (m:Molecule)\n",
    "    WHERE m.formula_string = fs_match\n",
    "    AND m.point_in_time = 12\n",
    "    WITH fs_match, overall_trend, m.ar_full_hti as ar_hti, m.ar_full_pt as ar_pt, m.pr_pt as pr_pt\n",
    "    RETURN fs_match, overall_trend, ar_hti, ar_pt, pr_pt\n",
    "\"\"\").to_data_frame()"
   ]
  },
  {
   "cell_type": "code",
   "execution_count": 48,
   "metadata": {},
   "outputs": [
    {
     "data": {
      "text/html": [
       "<div>\n",
       "<style scoped>\n",
       "    .dataframe tbody tr th:only-of-type {\n",
       "        vertical-align: middle;\n",
       "    }\n",
       "\n",
       "    .dataframe tbody tr th {\n",
       "        vertical-align: top;\n",
       "    }\n",
       "\n",
       "    .dataframe thead th {\n",
       "        text-align: right;\n",
       "    }\n",
       "</style>\n",
       "<table border=\"1\" class=\"dataframe\">\n",
       "  <thead>\n",
       "    <tr style=\"text-align: right;\">\n",
       "      <th></th>\n",
       "      <th>fs_match</th>\n",
       "      <th>overall_trend</th>\n",
       "      <th>ar_hti</th>\n",
       "      <th>ar_pt</th>\n",
       "      <th>pr_pt</th>\n",
       "    </tr>\n",
       "  </thead>\n",
       "  <tbody>\n",
       "    <tr>\n",
       "      <th>2589</th>\n",
       "      <td>C27 H30 O8</td>\n",
       "      <td>0.609823</td>\n",
       "      <td>0.150000</td>\n",
       "      <td>0.242039</td>\n",
       "      <td>0.435947</td>\n",
       "    </tr>\n",
       "    <tr>\n",
       "      <th>723</th>\n",
       "      <td>C15 H19 N1 O4</td>\n",
       "      <td>0.867876</td>\n",
       "      <td>0.150000</td>\n",
       "      <td>0.282072</td>\n",
       "      <td>0.598438</td>\n",
       "    </tr>\n",
       "    <tr>\n",
       "      <th>541</th>\n",
       "      <td>C14 H18 O4</td>\n",
       "      <td>1.149891</td>\n",
       "      <td>0.192552</td>\n",
       "      <td>0.320391</td>\n",
       "      <td>0.859019</td>\n",
       "    </tr>\n",
       "    <tr>\n",
       "      <th>2311</th>\n",
       "      <td>C24 H32 O7</td>\n",
       "      <td>0.607326</td>\n",
       "      <td>0.150000</td>\n",
       "      <td>0.293121</td>\n",
       "      <td>0.650197</td>\n",
       "    </tr>\n",
       "    <tr>\n",
       "      <th>607</th>\n",
       "      <td>C14 H6 O8</td>\n",
       "      <td>0.284503</td>\n",
       "      <td>0.150000</td>\n",
       "      <td>0.351810</td>\n",
       "      <td>3.041484</td>\n",
       "    </tr>\n",
       "    <tr>\n",
       "      <th>...</th>\n",
       "      <td>...</td>\n",
       "      <td>...</td>\n",
       "      <td>...</td>\n",
       "      <td>...</td>\n",
       "      <td>...</td>\n",
       "    </tr>\n",
       "    <tr>\n",
       "      <th>32</th>\n",
       "      <td>C10 H14 O5</td>\n",
       "      <td>3.097169</td>\n",
       "      <td>0.150000</td>\n",
       "      <td>0.339925</td>\n",
       "      <td>1.182124</td>\n",
       "    </tr>\n",
       "    <tr>\n",
       "      <th>396</th>\n",
       "      <td>C13 H19 N1 O7</td>\n",
       "      <td>2.079922</td>\n",
       "      <td>0.150000</td>\n",
       "      <td>0.316829</td>\n",
       "      <td>0.898534</td>\n",
       "    </tr>\n",
       "    <tr>\n",
       "      <th>1435</th>\n",
       "      <td>C19 H15 N1 O7</td>\n",
       "      <td>0.893728</td>\n",
       "      <td>0.150000</td>\n",
       "      <td>0.286835</td>\n",
       "      <td>0.602173</td>\n",
       "    </tr>\n",
       "    <tr>\n",
       "      <th>2798</th>\n",
       "      <td>C30 H34 O10</td>\n",
       "      <td>0.530320</td>\n",
       "      <td>0.875870</td>\n",
       "      <td>0.256128</td>\n",
       "      <td>0.455908</td>\n",
       "    </tr>\n",
       "    <tr>\n",
       "      <th>927</th>\n",
       "      <td>C16 H20 O7 S1</td>\n",
       "      <td>0.550445</td>\n",
       "      <td>0.150000</td>\n",
       "      <td>0.212988</td>\n",
       "      <td>0.310171</td>\n",
       "    </tr>\n",
       "  </tbody>\n",
       "</table>\n",
       "<p>500 rows × 5 columns</p>\n",
       "</div>"
      ],
      "text/plain": [
       "           fs_match  overall_trend    ar_hti     ar_pt     pr_pt\n",
       "2589     C27 H30 O8       0.609823  0.150000  0.242039  0.435947\n",
       "723   C15 H19 N1 O4       0.867876  0.150000  0.282072  0.598438\n",
       "541      C14 H18 O4       1.149891  0.192552  0.320391  0.859019\n",
       "2311     C24 H32 O7       0.607326  0.150000  0.293121  0.650197\n",
       "607       C14 H6 O8       0.284503  0.150000  0.351810  3.041484\n",
       "...             ...            ...       ...       ...       ...\n",
       "32       C10 H14 O5       3.097169  0.150000  0.339925  1.182124\n",
       "396   C13 H19 N1 O7       2.079922  0.150000  0.316829  0.898534\n",
       "1435  C19 H15 N1 O7       0.893728  0.150000  0.286835  0.602173\n",
       "2798    C30 H34 O10       0.530320  0.875870  0.256128  0.455908\n",
       "927   C16 H20 O7 S1       0.550445  0.150000  0.212988  0.310171\n",
       "\n",
       "[500 rows x 5 columns]"
      ]
     },
     "execution_count": 48,
     "metadata": {},
     "output_type": "execute_result"
    }
   ],
   "source": [
    "df_trend_ranks_sample = df_trend_ranks.sample(n = 500)\n",
    "\n",
    "df_trend_ranks_sample"
   ]
  },
  {
   "cell_type": "code",
   "execution_count": 51,
   "metadata": {},
   "outputs": [
    {
     "data": {
      "image/png": "[encoded data removed]",
      "text/plain": [
       "<Figure size 432x288 with 1 Axes>"
      ]
     },
     "metadata": {
      "needs_background": "light"
     },
     "output_type": "display_data"
    }
   ],
   "source": [
    "fig = plt.figure()\n",
    "plt.scatter(df_trend_ranks_sample.ar_hti, df_trend_ranks_sample.overall_trend)\n",
    "\n",
    "plt.show()"
   ]
  },
  {
   "cell_type": "code",
   "execution_count": null,
   "metadata": {},
   "outputs": [],
   "source": []
  }
 ],
 "metadata": {
  "kernelspec": {
   "display_name": "Python 3 (ipykernel)",
   "language": "python",
   "name": "python3"
  },
  "language_info": {
   "codemirror_mode": {
    "name": "ipython",
    "version": 3
   },
   "file_extension": ".py",
   "mimetype": "text/x-python",
   "name": "python",
   "nbconvert_exporter": "python",
   "pygments_lexer": "ipython3",
   "version": "3.10.2"
  }
 },
 "nbformat": 4,
 "nbformat_minor": 4
}
